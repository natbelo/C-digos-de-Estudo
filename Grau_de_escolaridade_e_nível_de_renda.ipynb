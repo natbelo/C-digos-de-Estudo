{
  "nbformat": 4,
  "nbformat_minor": 0,
  "metadata": {
    "colab": {
      "name": "Grau de escolaridade e nível de renda.ipynb",
      "provenance": [],
      "mount_file_id": "1ier_TIUJalbbT-66Rj24imMA6jfOOV9o",
      "authorship_tag": "ABX9TyN3Jf6V15el89MwWmcj293a",
      "include_colab_link": true
    },
    "kernelspec": {
      "name": "python3",
      "display_name": "Python 3"
    }
  },
  "cells": [
    {
      "cell_type": "markdown",
      "metadata": {
        "id": "view-in-github",
        "colab_type": "text"
      },
      "source": [
        "<a href=\"https://colab.research.google.com/github/natbelo/C-digos-de-Estudo/blob/main/Grau_de_escolaridade_e_n%C3%ADvel_de_renda.ipynb\" target=\"_parent\"><img src=\"https://colab.research.google.com/assets/colab-badge.svg\" alt=\"Open In Colab\"/></a>"
      ]
    },
    {
      "cell_type": "code",
      "metadata": {
        "id": "nZRkBNgfBhcP"
      },
      "source": [
        "from datascience import *"
      ],
      "execution_count": 34,
      "outputs": []
    },
    {
      "cell_type": "code",
      "metadata": {
        "id": "xO85RWfvArhh"
      },
      "source": [
        "import numpy as np\n"
      ],
      "execution_count": 35,
      "outputs": []
    },
    {
      "cell_type": "code",
      "metadata": {
        "id": "bLPZ6mXnAwYZ"
      },
      "source": [
        "full_table = Table.read_table('/content/drive/MyDrive/Cloud Skills Challenge - Microsoft/ca-educational-attainment-personal-income-2008-2014.csv')"
      ],
      "execution_count": 36,
      "outputs": []
    },
    {
      "cell_type": "code",
      "metadata": {
        "colab": {
          "base_uri": "https://localhost:8080/",
          "height": 388
        },
        "id": "EHoaelOeA7Cc",
        "outputId": "0d339701-7685-4e29-ea1e-cce6aef26180"
      },
      "source": [
        "full_table"
      ],
      "execution_count": 37,
      "outputs": [
        {
          "output_type": "execute_result",
          "data": {
            "text/html": [
              "<table border=\"1\" class=\"dataframe\">\n",
              "    <thead>\n",
              "        <tr>\n",
              "            <th>Year</th> <th>Age</th> <th>Gender</th> <th>Educational Attainment</th> <th>Personal Income</th> <th>Population Count</th>\n",
              "        </tr>\n",
              "    </thead>\n",
              "    <tbody>\n",
              "        <tr>\n",
              "            <td>01/01/2008 12:00:00 AM</td> <td>00 to 17</td> <td>Male  </td> <td>Children under 15                  </td> <td>No Income         </td> <td>nan             </td>\n",
              "        </tr>\n",
              "        <tr>\n",
              "            <td>01/01/2008 12:00:00 AM</td> <td>00 to 17</td> <td>Male  </td> <td>No high school diploma             </td> <td>No Income         </td> <td>650889          </td>\n",
              "        </tr>\n",
              "        <tr>\n",
              "            <td>01/01/2008 12:00:00 AM</td> <td>00 to 17</td> <td>Male  </td> <td>No high school diploma             </td> <td>$5,000 to $9,999  </td> <td>30152           </td>\n",
              "        </tr>\n",
              "        <tr>\n",
              "            <td>01/01/2008 12:00:00 AM</td> <td>00 to 17</td> <td>Male  </td> <td>No high school diploma             </td> <td>$10,000 to $14,999</td> <td>7092            </td>\n",
              "        </tr>\n",
              "        <tr>\n",
              "            <td>01/01/2008 12:00:00 AM</td> <td>00 to 17</td> <td>Male  </td> <td>No high school diploma             </td> <td>$15,000 to $24,999</td> <td>3974            </td>\n",
              "        </tr>\n",
              "        <tr>\n",
              "            <td>01/01/2008 12:00:00 AM</td> <td>00 to 17</td> <td>Male  </td> <td>No high school diploma             </td> <td>$25,000 to $34,999</td> <td>2606            </td>\n",
              "        </tr>\n",
              "        <tr>\n",
              "            <td>01/01/2008 12:00:00 AM</td> <td>00 to 17</td> <td>Male  </td> <td>No high school diploma             </td> <td>$35,000 to $49,999</td> <td>2227            </td>\n",
              "        </tr>\n",
              "        <tr>\n",
              "            <td>01/01/2008 12:00:00 AM</td> <td>00 to 17</td> <td>Male  </td> <td>High school or equivalent          </td> <td>No Income         </td> <td>nan             </td>\n",
              "        </tr>\n",
              "        <tr>\n",
              "            <td>01/01/2008 12:00:00 AM</td> <td>00 to 17</td> <td>Male  </td> <td>Some college, less than 4-yr degree</td> <td>No Income         </td> <td>8664            </td>\n",
              "        </tr>\n",
              "        <tr>\n",
              "            <td>01/01/2008 12:00:00 AM</td> <td>00 to 17</td> <td>Male  </td> <td>Some college, less than 4-yr degree</td> <td>$10,000 to $14,999</td> <td>1304            </td>\n",
              "        </tr>\n",
              "    </tbody>\n",
              "</table>\n",
              "<p>... (1050 rows omitted)</p>"
            ],
            "text/plain": [
              "Year                   | Age      | Gender | Educational Attainment              | Personal Income    | Population Count\n",
              "01/01/2008 12:00:00 AM | 00 to 17 | Male   | Children under 15                   | No Income          | nan\n",
              "01/01/2008 12:00:00 AM | 00 to 17 | Male   | No high school diploma              | No Income          | 650889\n",
              "01/01/2008 12:00:00 AM | 00 to 17 | Male   | No high school diploma              | $5,000 to $9,999   | 30152\n",
              "01/01/2008 12:00:00 AM | 00 to 17 | Male   | No high school diploma              | $10,000 to $14,999 | 7092\n",
              "01/01/2008 12:00:00 AM | 00 to 17 | Male   | No high school diploma              | $15,000 to $24,999 | 3974\n",
              "01/01/2008 12:00:00 AM | 00 to 17 | Male   | No high school diploma              | $25,000 to $34,999 | 2606\n",
              "01/01/2008 12:00:00 AM | 00 to 17 | Male   | No high school diploma              | $35,000 to $49,999 | 2227\n",
              "01/01/2008 12:00:00 AM | 00 to 17 | Male   | High school or equivalent           | No Income          | nan\n",
              "01/01/2008 12:00:00 AM | 00 to 17 | Male   | Some college, less than 4-yr degree | No Income          | 8664\n",
              "01/01/2008 12:00:00 AM | 00 to 17 | Male   | Some college, less than 4-yr degree | $10,000 to $14,999 | 1304\n",
              "... (1050 rows omitted)"
            ]
          },
          "metadata": {
            "tags": []
          },
          "execution_count": 37
        }
      ]
    },
    {
      "cell_type": "code",
      "metadata": {
        "colab": {
          "base_uri": "https://localhost:8080/",
          "height": 388
        },
        "id": "ZKsj28IwBJ7M",
        "outputId": "5d285279-5980-4e7c-e4f6-92f6650b58ac"
      },
      "source": [
        "ca_2014 = full_table.where('Year', are.equal_to('01/01/2014 12:00:00 AM')).where('Age', are.not_equal_to('00 to 17'))\n",
        "ca_2014"
      ],
      "execution_count": 43,
      "outputs": [
        {
          "output_type": "execute_result",
          "data": {
            "text/html": [
              "<table border=\"1\" class=\"dataframe\">\n",
              "    <thead>\n",
              "        <tr>\n",
              "            <th>Year</th> <th>Age</th> <th>Gender</th> <th>Educational Attainment</th> <th>Personal Income</th> <th>Population Count</th>\n",
              "        </tr>\n",
              "    </thead>\n",
              "    <tbody>\n",
              "        <tr>\n",
              "            <td>01/01/2014 12:00:00 AM</td> <td>18 to 64</td> <td>Male  </td> <td>No high school diploma   </td> <td>No Income         </td> <td>376783          </td>\n",
              "        </tr>\n",
              "        <tr>\n",
              "            <td>01/01/2014 12:00:00 AM</td> <td>18 to 64</td> <td>Male  </td> <td>No high school diploma   </td> <td>$5,000 to $9,999  </td> <td>158572          </td>\n",
              "        </tr>\n",
              "        <tr>\n",
              "            <td>01/01/2014 12:00:00 AM</td> <td>18 to 64</td> <td>Male  </td> <td>No high school diploma   </td> <td>$10,000 to $14,999</td> <td>231957          </td>\n",
              "        </tr>\n",
              "        <tr>\n",
              "            <td>01/01/2014 12:00:00 AM</td> <td>18 to 64</td> <td>Male  </td> <td>No high school diploma   </td> <td>$15,000 to $24,999</td> <td>460129          </td>\n",
              "        </tr>\n",
              "        <tr>\n",
              "            <td>01/01/2014 12:00:00 AM</td> <td>18 to 64</td> <td>Male  </td> <td>No high school diploma   </td> <td>$25,000 to $34,999</td> <td>288460          </td>\n",
              "        </tr>\n",
              "        <tr>\n",
              "            <td>01/01/2014 12:00:00 AM</td> <td>18 to 64</td> <td>Male  </td> <td>No high school diploma   </td> <td>$35,000 to $49,999</td> <td>194888          </td>\n",
              "        </tr>\n",
              "        <tr>\n",
              "            <td>01/01/2014 12:00:00 AM</td> <td>18 to 64</td> <td>Male  </td> <td>No high school diploma   </td> <td>$50,000 to $74,999</td> <td>104646          </td>\n",
              "        </tr>\n",
              "        <tr>\n",
              "            <td>01/01/2014 12:00:00 AM</td> <td>18 to 64</td> <td>Male  </td> <td>No high school diploma   </td> <td>$75,000 and over  </td> <td>54734           </td>\n",
              "        </tr>\n",
              "        <tr>\n",
              "            <td>01/01/2014 12:00:00 AM</td> <td>18 to 64</td> <td>Male  </td> <td>High school or equivalent</td> <td>No Income         </td> <td>405204          </td>\n",
              "        </tr>\n",
              "        <tr>\n",
              "            <td>01/01/2014 12:00:00 AM</td> <td>18 to 64</td> <td>Male  </td> <td>High school or equivalent</td> <td>$5,000 to $9,999  </td> <td>238754          </td>\n",
              "        </tr>\n",
              "    </tbody>\n",
              "</table>\n",
              "<p>... (117 rows omitted)</p>"
            ],
            "text/plain": [
              "Year                   | Age      | Gender | Educational Attainment    | Personal Income    | Population Count\n",
              "01/01/2014 12:00:00 AM | 18 to 64 | Male   | No high school diploma    | No Income          | 376783\n",
              "01/01/2014 12:00:00 AM | 18 to 64 | Male   | No high school diploma    | $5,000 to $9,999   | 158572\n",
              "01/01/2014 12:00:00 AM | 18 to 64 | Male   | No high school diploma    | $10,000 to $14,999 | 231957\n",
              "01/01/2014 12:00:00 AM | 18 to 64 | Male   | No high school diploma    | $15,000 to $24,999 | 460129\n",
              "01/01/2014 12:00:00 AM | 18 to 64 | Male   | No high school diploma    | $25,000 to $34,999 | 288460\n",
              "01/01/2014 12:00:00 AM | 18 to 64 | Male   | No high school diploma    | $35,000 to $49,999 | 194888\n",
              "01/01/2014 12:00:00 AM | 18 to 64 | Male   | No high school diploma    | $50,000 to $74,999 | 104646\n",
              "01/01/2014 12:00:00 AM | 18 to 64 | Male   | No high school diploma    | $75,000 and over   | 54734\n",
              "01/01/2014 12:00:00 AM | 18 to 64 | Male   | High school or equivalent | No Income          | 405204\n",
              "01/01/2014 12:00:00 AM | 18 to 64 | Male   | High school or equivalent | $5,000 to $9,999   | 238754\n",
              "... (117 rows omitted)"
            ]
          },
          "metadata": {
            "tags": []
          },
          "execution_count": 43
        }
      ]
    },
    {
      "cell_type": "code",
      "metadata": {
        "colab": {
          "base_uri": "https://localhost:8080/",
          "height": 388
        },
        "id": "V8w5u7oHEVKk",
        "outputId": "c3192bd5-7e70-46d6-dcba-9f937214b177"
      },
      "source": [
        "educ_inc = ca_2014.select('Educational Attainment','Personal Income','Population Count')\n",
        "educ_inc"
      ],
      "execution_count": 44,
      "outputs": [
        {
          "output_type": "execute_result",
          "data": {
            "text/html": [
              "<table border=\"1\" class=\"dataframe\">\n",
              "    <thead>\n",
              "        <tr>\n",
              "            <th>Educational Attainment</th> <th>Personal Income</th> <th>Population Count</th>\n",
              "        </tr>\n",
              "    </thead>\n",
              "    <tbody>\n",
              "        <tr>\n",
              "            <td>No high school diploma   </td> <td>No Income         </td> <td>376783          </td>\n",
              "        </tr>\n",
              "        <tr>\n",
              "            <td>No high school diploma   </td> <td>$5,000 to $9,999  </td> <td>158572          </td>\n",
              "        </tr>\n",
              "        <tr>\n",
              "            <td>No high school diploma   </td> <td>$10,000 to $14,999</td> <td>231957          </td>\n",
              "        </tr>\n",
              "        <tr>\n",
              "            <td>No high school diploma   </td> <td>$15,000 to $24,999</td> <td>460129          </td>\n",
              "        </tr>\n",
              "        <tr>\n",
              "            <td>No high school diploma   </td> <td>$25,000 to $34,999</td> <td>288460          </td>\n",
              "        </tr>\n",
              "        <tr>\n",
              "            <td>No high school diploma   </td> <td>$35,000 to $49,999</td> <td>194888          </td>\n",
              "        </tr>\n",
              "        <tr>\n",
              "            <td>No high school diploma   </td> <td>$50,000 to $74,999</td> <td>104646          </td>\n",
              "        </tr>\n",
              "        <tr>\n",
              "            <td>No high school diploma   </td> <td>$75,000 and over  </td> <td>54734           </td>\n",
              "        </tr>\n",
              "        <tr>\n",
              "            <td>High school or equivalent</td> <td>No Income         </td> <td>405204          </td>\n",
              "        </tr>\n",
              "        <tr>\n",
              "            <td>High school or equivalent</td> <td>$5,000 to $9,999  </td> <td>238754          </td>\n",
              "        </tr>\n",
              "    </tbody>\n",
              "</table>\n",
              "<p>... (117 rows omitted)</p>"
            ],
            "text/plain": [
              "Educational Attainment    | Personal Income    | Population Count\n",
              "No high school diploma    | No Income          | 376783\n",
              "No high school diploma    | $5,000 to $9,999   | 158572\n",
              "No high school diploma    | $10,000 to $14,999 | 231957\n",
              "No high school diploma    | $15,000 to $24,999 | 460129\n",
              "No high school diploma    | $25,000 to $34,999 | 288460\n",
              "No high school diploma    | $35,000 to $49,999 | 194888\n",
              "No high school diploma    | $50,000 to $74,999 | 104646\n",
              "No high school diploma    | $75,000 and over   | 54734\n",
              "High school or equivalent | No Income          | 405204\n",
              "High school or equivalent | $5,000 to $9,999   | 238754\n",
              "... (117 rows omitted)"
            ]
          },
          "metadata": {
            "tags": []
          },
          "execution_count": 44
        }
      ]
    },
    {
      "cell_type": "code",
      "metadata": {
        "colab": {
          "base_uri": "https://localhost:8080/",
          "height": 173
        },
        "id": "ZDcvrZdGE3_g",
        "outputId": "7a1903c2-cca0-4c6f-8c2a-e6e1f1e6a114"
      },
      "source": [
        "education = educ_inc.select('Educational Attainment', 'Population Count')\n",
        "educ_totals = education.group('Educational Attainment', sum)\n",
        "educ_totals"
      ],
      "execution_count": 46,
      "outputs": [
        {
          "output_type": "execute_result",
          "data": {
            "text/html": [
              "<table border=\"1\" class=\"dataframe\">\n",
              "    <thead>\n",
              "        <tr>\n",
              "            <th>Educational Attainment</th> <th>Population Count sum</th>\n",
              "        </tr>\n",
              "    </thead>\n",
              "    <tbody>\n",
              "        <tr>\n",
              "            <td>Bachelor's degree or higher        </td> <td>8.5257e+06          </td>\n",
              "        </tr>\n",
              "        <tr>\n",
              "            <td>High school or equivalent          </td> <td>6.29414e+06         </td>\n",
              "        </tr>\n",
              "        <tr>\n",
              "            <td>No high school diploma             </td> <td>4.25828e+06         </td>\n",
              "        </tr>\n",
              "        <tr>\n",
              "            <td>Some college, less than 4-yr degree</td> <td>7.7755e+06          </td>\n",
              "        </tr>\n",
              "    </tbody>\n",
              "</table>"
            ],
            "text/plain": [
              "Educational Attainment              | Population Count sum\n",
              "Bachelor's degree or higher         | 8.5257e+06\n",
              "High school or equivalent           | 6.29414e+06\n",
              "No high school diploma              | 4.25828e+06\n",
              "Some college, less than 4-yr degree | 7.7755e+06"
            ]
          },
          "metadata": {
            "tags": []
          },
          "execution_count": 46
        }
      ]
    },
    {
      "cell_type": "markdown",
      "metadata": {
        "id": "zLJoYv9cFexe"
      },
      "source": [
        "As contagens são tão grandes que é mais prático observar os percentuais. Para isso, usaremos a função percents"
      ]
    },
    {
      "cell_type": "code",
      "metadata": {
        "id": "s18oqNkyFgoW"
      },
      "source": [
        "def percents(array_x):\n",
        "  return np.round((array_x/sum(array_x))*100,2)"
      ],
      "execution_count": 48,
      "outputs": []
    },
    {
      "cell_type": "code",
      "metadata": {
        "colab": {
          "base_uri": "https://localhost:8080/",
          "height": 173
        },
        "id": "5xaiNvOXF2NV",
        "outputId": "6d06931d-53a6-47a7-8cb8-00f5b7650bfd"
      },
      "source": [
        "educ_distribution = educ_totals.with_column(\n",
        "    'Population Percent', percents(educ_totals.column(1))\n",
        ")\n",
        "educ_distribution"
      ],
      "execution_count": 49,
      "outputs": [
        {
          "output_type": "execute_result",
          "data": {
            "text/html": [
              "<table border=\"1\" class=\"dataframe\">\n",
              "    <thead>\n",
              "        <tr>\n",
              "            <th>Educational Attainment</th> <th>Population Count sum</th> <th>Population Percent</th>\n",
              "        </tr>\n",
              "    </thead>\n",
              "    <tbody>\n",
              "        <tr>\n",
              "            <td>Bachelor's degree or higher        </td> <td>8.5257e+06          </td> <td>31.75             </td>\n",
              "        </tr>\n",
              "        <tr>\n",
              "            <td>High school or equivalent          </td> <td>6.29414e+06         </td> <td>23.44             </td>\n",
              "        </tr>\n",
              "        <tr>\n",
              "            <td>No high school diploma             </td> <td>4.25828e+06         </td> <td>15.86             </td>\n",
              "        </tr>\n",
              "        <tr>\n",
              "            <td>Some college, less than 4-yr degree</td> <td>7.7755e+06          </td> <td>28.96             </td>\n",
              "        </tr>\n",
              "    </tbody>\n",
              "</table>"
            ],
            "text/plain": [
              "Educational Attainment              | Population Count sum | Population Percent\n",
              "Bachelor's degree or higher         | 8.5257e+06           | 31.75\n",
              "High school or equivalent           | 6.29414e+06          | 23.44\n",
              "No high school diploma              | 4.25828e+06          | 15.86\n",
              "Some college, less than 4-yr degree | 7.7755e+06           | 28.96"
            ]
          },
          "metadata": {
            "tags": []
          },
          "execution_count": 49
        }
      ]
    },
    {
      "cell_type": "markdown",
      "metadata": {
        "id": "70UCQDCLGbmX"
      },
      "source": [
        "Usando pivot, podemos obter uma tabela de contagens de adulto californianos com classificação cruzada por Educational Attainment e Personal Income."
      ]
    },
    {
      "cell_type": "code",
      "metadata": {
        "colab": {
          "base_uri": "https://localhost:8080/",
          "height": 297
        },
        "id": "EZKIRGYfGgwI",
        "outputId": "63010202-96ad-409e-ecb9-9e5381846740"
      },
      "source": [
        "totals = educ_inc.pivot('Educational Attainment','Personal Income', values = 'Population Count', collect = sum)\n",
        "totals\n",
        "#Cada coluna de contagens é uma distribuição do nível de renda pessoal em um grau de escolaridade específico"
      ],
      "execution_count": 50,
      "outputs": [
        {
          "output_type": "execute_result",
          "data": {
            "text/html": [
              "<table border=\"1\" class=\"dataframe\">\n",
              "    <thead>\n",
              "        <tr>\n",
              "            <th>Personal Income</th> <th>Bachelor's degree or higher</th> <th>High school or equivalent</th> <th>No high school diploma</th> <th>Some college, less than 4-yr degree</th>\n",
              "        </tr>\n",
              "    </thead>\n",
              "    <tbody>\n",
              "        <tr>\n",
              "            <td>$10,000 to $14,999</td> <td>452449                     </td> <td>692661                   </td> <td>664607                </td> <td>798596                             </td>\n",
              "        </tr>\n",
              "        <tr>\n",
              "            <td>$15,000 to $24,999</td> <td>773684                     </td> <td>1.25238e+06              </td> <td>875498                </td> <td>1.34526e+06                        </td>\n",
              "        </tr>\n",
              "        <tr>\n",
              "            <td>$25,000 to $34,999</td> <td>693884                     </td> <td>929218                   </td> <td>464564                </td> <td>1.09164e+06                        </td>\n",
              "        </tr>\n",
              "        <tr>\n",
              "            <td>$35,000 to $49,999</td> <td>1.12279e+06                </td> <td>782804                   </td> <td>260579                </td> <td>1.11242e+06                        </td>\n",
              "        </tr>\n",
              "        <tr>\n",
              "            <td>$5,000 to $9,999  </td> <td>326020                     </td> <td>626499                   </td> <td>597039                </td> <td>810641                             </td>\n",
              "        </tr>\n",
              "        <tr>\n",
              "            <td>$50,000 to $74,999</td> <td>1.59468e+06                </td> <td>525517                   </td> <td>132516                </td> <td>883826                             </td>\n",
              "        </tr>\n",
              "        <tr>\n",
              "            <td>$75,000 and over  </td> <td>2.9867e+06                 </td> <td>323192                   </td> <td>58945                 </td> <td>748103                             </td>\n",
              "        </tr>\n",
              "        <tr>\n",
              "            <td>No Income         </td> <td>575491                     </td> <td>1.16187e+06              </td> <td>1.20453e+06           </td> <td>985011                             </td>\n",
              "        </tr>\n",
              "    </tbody>\n",
              "</table>"
            ],
            "text/plain": [
              "Personal Income    | Bachelor's degree or higher | High school or equivalent | No high school diploma | Some college, less than 4-yr degree\n",
              "$10,000 to $14,999 | 452449                      | 692661                    | 664607                 | 798596\n",
              "$15,000 to $24,999 | 773684                      | 1.25238e+06               | 875498                 | 1.34526e+06\n",
              "$25,000 to $34,999 | 693884                      | 929218                    | 464564                 | 1.09164e+06\n",
              "$35,000 to $49,999 | 1.12279e+06                 | 782804                    | 260579                 | 1.11242e+06\n",
              "$5,000 to $9,999   | 326020                      | 626499                    | 597039                 | 810641\n",
              "$50,000 to $74,999 | 1.59468e+06                 | 525517                    | 132516                 | 883826\n",
              "$75,000 and over   | 2.9867e+06                  | 323192                    | 58945                  | 748103\n",
              "No Income          | 575491                      | 1.16187e+06               | 1.20453e+06            | 985011"
            ]
          },
          "metadata": {
            "tags": []
          },
          "execution_count": 50
        }
      ]
    },
    {
      "cell_type": "code",
      "metadata": {
        "colab": {
          "base_uri": "https://localhost:8080/",
          "height": 297
        },
        "id": "7_d3YhnSGzyB",
        "outputId": "1c8f3663-f4b3-4280-f4b8-9896af9a2f9d"
      },
      "source": [
        "distributions = totals.select(0).with_columns(\n",
        "    \"Bachelor's degree or higher\", percents(totals.column(1)),\n",
        "    'College, less than 4-yr degree', percents(totals.column(2)),\n",
        "    'High school or equivalent', percents(totals.column(3)),\n",
        "    'No high school diploma', percents(totals.column(4))   \n",
        "    )\n",
        "\n",
        "distributions"
      ],
      "execution_count": 51,
      "outputs": [
        {
          "output_type": "execute_result",
          "data": {
            "text/html": [
              "<table border=\"1\" class=\"dataframe\">\n",
              "    <thead>\n",
              "        <tr>\n",
              "            <th>Personal Income</th> <th>Bachelor's degree or higher</th> <th>College, less than 4-yr degree</th> <th>High school or equivalent</th> <th>No high school diploma</th>\n",
              "        </tr>\n",
              "    </thead>\n",
              "    <tbody>\n",
              "        <tr>\n",
              "            <td>$10,000 to $14,999</td> <td>5.31                       </td> <td>11                            </td> <td>15.61                    </td> <td>10.27                 </td>\n",
              "        </tr>\n",
              "        <tr>\n",
              "            <td>$15,000 to $24,999</td> <td>9.07                       </td> <td>19.9                          </td> <td>20.56                    </td> <td>17.3                  </td>\n",
              "        </tr>\n",
              "        <tr>\n",
              "            <td>$25,000 to $34,999</td> <td>8.14                       </td> <td>14.76                         </td> <td>10.91                    </td> <td>14.04                 </td>\n",
              "        </tr>\n",
              "        <tr>\n",
              "            <td>$35,000 to $49,999</td> <td>13.17                      </td> <td>12.44                         </td> <td>6.12                     </td> <td>14.31                 </td>\n",
              "        </tr>\n",
              "        <tr>\n",
              "            <td>$5,000 to $9,999  </td> <td>3.82                       </td> <td>9.95                          </td> <td>14.02                    </td> <td>10.43                 </td>\n",
              "        </tr>\n",
              "        <tr>\n",
              "            <td>$50,000 to $74,999</td> <td>18.7                       </td> <td>8.35                          </td> <td>3.11                     </td> <td>11.37                 </td>\n",
              "        </tr>\n",
              "        <tr>\n",
              "            <td>$75,000 and over  </td> <td>35.03                      </td> <td>5.13                          </td> <td>1.38                     </td> <td>9.62                  </td>\n",
              "        </tr>\n",
              "        <tr>\n",
              "            <td>No Income         </td> <td>6.75                       </td> <td>18.46                         </td> <td>28.29                    </td> <td>12.67                 </td>\n",
              "        </tr>\n",
              "    </tbody>\n",
              "</table>"
            ],
            "text/plain": [
              "Personal Income    | Bachelor's degree or higher | College, less than 4-yr degree | High school or equivalent | No high school diploma\n",
              "$10,000 to $14,999 | 5.31                        | 11                             | 15.61                     | 10.27\n",
              "$15,000 to $24,999 | 9.07                        | 19.9                           | 20.56                     | 17.3\n",
              "$25,000 to $34,999 | 8.14                        | 14.76                          | 10.91                     | 14.04\n",
              "$35,000 to $49,999 | 13.17                       | 12.44                          | 6.12                      | 14.31\n",
              "$5,000 to $9,999   | 3.82                        | 9.95                           | 14.02                     | 10.43\n",
              "$50,000 to $74,999 | 18.7                        | 8.35                           | 3.11                      | 11.37\n",
              "$75,000 and over   | 35.03                       | 5.13                           | 1.38                      | 9.62\n",
              "No Income          | 6.75                        | 18.46                          | 28.29                     | 12.67"
            ]
          },
          "metadata": {
            "tags": []
          },
          "execution_count": 51
        }
      ]
    },
    {
      "cell_type": "markdown",
      "metadata": {
        "id": "X0g2wy0MHTU0"
      },
      "source": [
        "Em uma visão geral, você pode notar que mais de 35% das pessoas com diploma de bacharel ou superior alcançaram uma renda de US$ 75.000 ou mais, ao passo que menos de 10% das pessoas nos demais graus de escolaridade alcançaram esse nível de renda."
      ]
    }
  ]
}