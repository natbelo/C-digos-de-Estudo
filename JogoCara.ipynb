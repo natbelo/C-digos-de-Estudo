{
  "nbformat": 4,
  "nbformat_minor": 0,
  "metadata": {
    "colab": {
      "name": "JogoCara.ipynb",
      "provenance": [],
      "authorship_tag": "ABX9TyNtv7Q7K/W3JqKYtpF1aP6+",
      "include_colab_link": true
    },
    "kernelspec": {
      "name": "python3",
      "display_name": "Python 3"
    }
  },
  "cells": [
    {
      "cell_type": "markdown",
      "metadata": {
        "id": "view-in-github",
        "colab_type": "text"
      },
      "source": [
        "<a href=\"https://colab.research.google.com/github/natbelo/C-digos-de-Estudo/blob/main/JogoCara.ipynb\" target=\"_parent\"><img src=\"https://colab.research.google.com/assets/colab-badge.svg\" alt=\"Open In Colab\"/></a>"
      ]
    },
    {
      "cell_type": "markdown",
      "metadata": {
        "id": "sznFu4vEjmix"
      },
      "source": [
        "Como fazer um conjunto de 100 jogos contar o número de vezes que saiu cara."
      ]
    },
    {
      "cell_type": "code",
      "metadata": {
        "colab": {
          "base_uri": "https://localhost:8080/"
        },
        "id": "svskmdzZjJuF",
        "outputId": "4e9254ad-ac0e-46fb-ae8b-e811a88742c9"
      },
      "source": [
        "from datascience import *\n",
        "import matplotlib\n",
        "matplotlib.use('Agg', warn=False)\n",
        "%matplotlib inline\n",
        "import matplotlib.pyplot as plots\n",
        "plots.style.use('fivethirtyeight')\n",
        "import numpy as np"
      ],
      "execution_count": 1,
      "outputs": [
        {
          "output_type": "stream",
          "text": [
            "/usr/local/lib/python3.6/dist-packages/datascience/tables.py:17: MatplotlibDeprecationWarning: The 'warn' parameter of use() is deprecated since Matplotlib 3.1 and will be removed in 3.3.  If any parameter follows 'warn', they should be pass as keyword, not positionally.\n",
            "  matplotlib.use('agg', warn=False)\n",
            "/usr/local/lib/python3.6/dist-packages/datascience/util.py:10: MatplotlibDeprecationWarning: The 'warn' parameter of use() is deprecated since Matplotlib 3.1 and will be removed in 3.3.  If any parameter follows 'warn', they should be pass as keyword, not positionally.\n",
            "  matplotlib.use('agg', warn=False)\n",
            "/usr/local/lib/python3.6/dist-packages/ipykernel_launcher.py:3: MatplotlibDeprecationWarning: The 'warn' parameter of use() is deprecated since Matplotlib 3.1 and will be removed in 3.3.  If any parameter follows 'warn', they should be pass as keyword, not positionally.\n",
            "  This is separate from the ipykernel package so we can avoid doing imports until\n"
          ],
          "name": "stderr"
        }
      ]
    },
    {
      "cell_type": "code",
      "metadata": {
        "id": "KwNztOwtjRCK"
      },
      "source": [
        "#criamos uma moeda\n",
        "coin = make_array('Heads','Tails') "
      ],
      "execution_count": 2,
      "outputs": []
    },
    {
      "cell_type": "code",
      "metadata": {
        "colab": {
          "base_uri": "https://localhost:8080/"
        },
        "id": "h0WnJMCPjvr6",
        "outputId": "f520b67e-0c70-457b-e8db-9d503c2045ab"
      },
      "source": [
        "#resultado de 10 jogos\n",
        "ten_tosses = np.random.choice(coin,10)\n",
        "ten_tosses"
      ],
      "execution_count": 3,
      "outputs": [
        {
          "output_type": "execute_result",
          "data": {
            "text/plain": [
              "array(['Heads', 'Tails', 'Tails', 'Heads', 'Heads', 'Heads', 'Tails',\n",
              "       'Heads', 'Tails', 'Heads'], dtype='<U5')"
            ]
          },
          "metadata": {
            "tags": []
          },
          "execution_count": 3
        }
      ]
    },
    {
      "cell_type": "code",
      "metadata": {
        "colab": {
          "base_uri": "https://localhost:8080/"
        },
        "id": "8V49MnfGkIRC",
        "outputId": "90627bed-0d4e-4166-964b-bff2b73baf1c"
      },
      "source": [
        "#conta o número de vezes que saiu cara usando np.count_nonzero\n",
        "np.count_nonzero( ten_tosses == 'Heads')"
      ],
      "execution_count": 4,
      "outputs": [
        {
          "output_type": "execute_result",
          "data": {
            "text/plain": [
              "6"
            ]
          },
          "metadata": {
            "tags": []
          },
          "execution_count": 4
        }
      ]
    },
    {
      "cell_type": "code",
      "metadata": {
        "colab": {
          "base_uri": "https://localhost:8080/"
        },
        "id": "bYg1sCYgklQy",
        "outputId": "bbfc968f-98de-404e-e6f9-5044ceba822b"
      },
      "source": [
        "outcomes = np.random.choice(coin,100)\n",
        "num_heads = np.count_nonzero(outcomes == 'Heads')\n",
        "num_heads"
      ],
      "execution_count": 8,
      "outputs": [
        {
          "output_type": "execute_result",
          "data": {
            "text/plain": [
              "52"
            ]
          },
          "metadata": {
            "tags": []
          },
          "execution_count": 8
        }
      ]
    },
    {
      "cell_type": "code",
      "metadata": {
        "id": "JOhqWm6bk5Io"
      },
      "source": [
        "# Uma matriz vazia para coletar os valores simulados\n",
        "heads = make_array()"
      ],
      "execution_count": 9,
      "outputs": []
    },
    {
      "cell_type": "code",
      "metadata": {
        "id": "QY1yZoIfluhS"
      },
      "source": [
        "#seguência de repetições\n",
        "num_repetitions = 10000\n",
        "repetitions_sequence = np.arange(num_repetitions)"
      ],
      "execution_count": 10,
      "outputs": []
    },
    {
      "cell_type": "code",
      "metadata": {
        "id": "sPrPixKgmEKU"
      },
      "source": [
        "#for loop\n",
        "for i in repetitions_sequence:\n",
        "  #simule 1 valor\n",
        "  outcomes = np.random.choice(coin,100)\n",
        "  num_heads = np.count_nonzero(outcomes == 'Heads')\n",
        "  \n",
        "  # aumenta a matriz de coleção com o valor simulado\n",
        "  heads = np.append(heads,num_heads)\n",
        "\n",
        "#Feita a simulação para 10000 jogadas"
      ],
      "execution_count": 11,
      "outputs": []
    },
    {
      "cell_type": "code",
      "metadata": {
        "colab": {
          "base_uri": "https://localhost:8080/"
        },
        "id": "89J_2o4JnNdW",
        "outputId": "454a1690-77b0-4b3a-910e-685548be2568"
      },
      "source": [
        "len(heads)"
      ],
      "execution_count": 12,
      "outputs": [
        {
          "output_type": "execute_result",
          "data": {
            "text/plain": [
              "10000"
            ]
          },
          "metadata": {
            "tags": []
          },
          "execution_count": 12
        }
      ]
    },
    {
      "cell_type": "code",
      "metadata": {
        "colab": {
          "base_uri": "https://localhost:8080/",
          "height": 388
        },
        "id": "uro4ZZuPnaKb",
        "outputId": "a08424db-3c41-4841-b5fc-522463c5d02e"
      },
      "source": [
        "#Para ter uma noção da variabilidade do número de vezes que saiu cara em 100 jogadas, podemos coletar os resultados em uma tabela e desenhar um histograma.\n",
        "simulation_results = Table().with_column('Repetition', np.arange(1, num_repetitions + 1),'Number of Heads', heads)\n",
        "simulation_results"
      ],
      "execution_count": 16,
      "outputs": [
        {
          "output_type": "execute_result",
          "data": {
            "text/html": [
              "<table border=\"1\" class=\"dataframe\">\n",
              "    <thead>\n",
              "        <tr>\n",
              "            <th>Repetition</th> <th>Number of Heads</th>\n",
              "        </tr>\n",
              "    </thead>\n",
              "    <tbody>\n",
              "        <tr>\n",
              "            <td>1         </td> <td>40             </td>\n",
              "        </tr>\n",
              "        <tr>\n",
              "            <td>2         </td> <td>46             </td>\n",
              "        </tr>\n",
              "        <tr>\n",
              "            <td>3         </td> <td>58             </td>\n",
              "        </tr>\n",
              "        <tr>\n",
              "            <td>4         </td> <td>53             </td>\n",
              "        </tr>\n",
              "        <tr>\n",
              "            <td>5         </td> <td>48             </td>\n",
              "        </tr>\n",
              "        <tr>\n",
              "            <td>6         </td> <td>44             </td>\n",
              "        </tr>\n",
              "        <tr>\n",
              "            <td>7         </td> <td>46             </td>\n",
              "        </tr>\n",
              "        <tr>\n",
              "            <td>8         </td> <td>50             </td>\n",
              "        </tr>\n",
              "        <tr>\n",
              "            <td>9         </td> <td>45             </td>\n",
              "        </tr>\n",
              "        <tr>\n",
              "            <td>10        </td> <td>45             </td>\n",
              "        </tr>\n",
              "    </tbody>\n",
              "</table>\n",
              "<p>... (9990 rows omitted)</p>"
            ],
            "text/plain": [
              "Repetition | Number of Heads\n",
              "1          | 40\n",
              "2          | 46\n",
              "3          | 58\n",
              "4          | 53\n",
              "5          | 48\n",
              "6          | 44\n",
              "7          | 46\n",
              "8          | 50\n",
              "9          | 45\n",
              "10         | 45\n",
              "... (9990 rows omitted)"
            ]
          },
          "metadata": {
            "tags": []
          },
          "execution_count": 16
        }
      ]
    },
    {
      "cell_type": "code",
      "metadata": {
        "colab": {
          "base_uri": "https://localhost:8080/",
          "height": 281
        },
        "id": "idFf94K2oRyW",
        "outputId": "f03fefad-2012-4bd8-f49a-7016e0e81f00"
      },
      "source": [
        "simulation_results.hist('Number of Heads', bins = np.arange(30.5,69.6,1))"
      ],
      "execution_count": 17,
      "outputs": [
        {
          "output_type": "display_data",
          "data": {
            "image/png": "[encoded data removed]",
            "text/plain": [
              "<Figure size 432x288 with 1 Axes>"
            ]
          },
          "metadata": {
            "tags": [],
            "needs_background": "light"
          }
        }
      ]
    },
    {
      "cell_type": "code",
      "metadata": {
        "id": "HtxOC_Ijoqys"
      },
      "source": [
        ""
      ],
      "execution_count": null,
      "outputs": []
    }
  ]
}