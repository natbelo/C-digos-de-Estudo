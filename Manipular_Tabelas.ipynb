{
  "nbformat": 4,
  "nbformat_minor": 0,
  "metadata": {
    "colab": {
      "name": "Manipular Tabelas.ipynb",
      "provenance": [],
      "mount_file_id": "1DKFJA-mkzL8B6hrSsLQ0Z2dkmP2AY05c",
      "authorship_tag": "ABX9TyOm3AzH4NpHL3o1H4CjNMZj",
      "include_colab_link": true
    },
    "kernelspec": {
      "name": "python3",
      "display_name": "Python 3"
    }
  },
  "cells": [
    {
      "cell_type": "markdown",
      "metadata": {
        "id": "view-in-github",
        "colab_type": "text"
      },
      "source": [
        "<a href=\"https://colab.research.google.com/github/natbelo/C-digos-de-Estudo/blob/main/Manipular_Tabelas.ipynb\" target=\"_parent\"><img src=\"https://colab.research.google.com/assets/colab-badge.svg\" alt=\"Open In Colab\"/></a>"
      ]
    },
    {
      "cell_type": "code",
      "metadata": {
        "id": "4I3bzoRRpR5Y",
        "outputId": "be26dcac-bfdb-4208-da9d-55776fbc2e49",
        "colab": {
          "base_uri": "https://localhost:8080/"
        }
      },
      "source": [
        "from datascience import *"
      ],
      "execution_count": 1,
      "outputs": [
        {
          "output_type": "stream",
          "text": [
            "/usr/local/lib/python3.6/dist-packages/datascience/tables.py:17: MatplotlibDeprecationWarning: The 'warn' parameter of use() is deprecated since Matplotlib 3.1 and will be removed in 3.3.  If any parameter follows 'warn', they should be pass as keyword, not positionally.\n",
            "  matplotlib.use('agg', warn=False)\n",
            "/usr/local/lib/python3.6/dist-packages/datascience/util.py:10: MatplotlibDeprecationWarning: The 'warn' parameter of use() is deprecated since Matplotlib 3.1 and will be removed in 3.3.  If any parameter follows 'warn', they should be pass as keyword, not positionally.\n",
            "  matplotlib.use('agg', warn=False)\n"
          ],
          "name": "stderr"
        }
      ]
    },
    {
      "cell_type": "code",
      "metadata": {
        "id": "c8W0mlf3teSH"
      },
      "source": [
        "import numpy as np"
      ],
      "execution_count": 2,
      "outputs": []
    },
    {
      "cell_type": "code",
      "metadata": {
        "id": "tRDitDynthsl"
      },
      "source": [
        "nba_salaries = Table.read_table('/content/drive/My Drive/Cloud Skills Challenge - Microsoft/nba_salaries.csv')"
      ],
      "execution_count": 3,
      "outputs": []
    },
    {
      "cell_type": "code",
      "metadata": {
        "id": "UIIAFQb9tv50",
        "outputId": "9022753e-cf83-4624-bf14-db6087b0d014",
        "colab": {
          "base_uri": "https://localhost:8080/",
          "height": 388
        }
      },
      "source": [
        "nba_salaries"
      ],
      "execution_count": 4,
      "outputs": [
        {
          "output_type": "execute_result",
          "data": {
            "text/html": [
              "<table border=\"1\" class=\"dataframe\">\n",
              "    <thead>\n",
              "        <tr>\n",
              "            <th>PLAYER</th> <th>POSITION</th> <th>TEAM</th> <th>'15-'16 SALARY</th>\n",
              "        </tr>\n",
              "    </thead>\n",
              "    <tbody>\n",
              "        <tr>\n",
              "            <td>Paul Millsap    </td> <td>PF      </td> <td>Atlanta Hawks</td> <td>18.6717       </td>\n",
              "        </tr>\n",
              "        <tr>\n",
              "            <td>Al Horford      </td> <td>C       </td> <td>Atlanta Hawks</td> <td>12            </td>\n",
              "        </tr>\n",
              "        <tr>\n",
              "            <td>Tiago Splitter  </td> <td>C       </td> <td>Atlanta Hawks</td> <td>9.75625       </td>\n",
              "        </tr>\n",
              "        <tr>\n",
              "            <td>Jeff Teague     </td> <td>PG      </td> <td>Atlanta Hawks</td> <td>8             </td>\n",
              "        </tr>\n",
              "        <tr>\n",
              "            <td>Kyle Korver     </td> <td>SG      </td> <td>Atlanta Hawks</td> <td>5.74648       </td>\n",
              "        </tr>\n",
              "        <tr>\n",
              "            <td>Thabo Sefolosha </td> <td>SF      </td> <td>Atlanta Hawks</td> <td>4             </td>\n",
              "        </tr>\n",
              "        <tr>\n",
              "            <td>Mike Scott      </td> <td>PF      </td> <td>Atlanta Hawks</td> <td>3.33333       </td>\n",
              "        </tr>\n",
              "        <tr>\n",
              "            <td>Kent Bazemore   </td> <td>SF      </td> <td>Atlanta Hawks</td> <td>2             </td>\n",
              "        </tr>\n",
              "        <tr>\n",
              "            <td>Dennis Schroder </td> <td>PG      </td> <td>Atlanta Hawks</td> <td>1.7634        </td>\n",
              "        </tr>\n",
              "        <tr>\n",
              "            <td>Tim Hardaway Jr.</td> <td>SG      </td> <td>Atlanta Hawks</td> <td>1.30452       </td>\n",
              "        </tr>\n",
              "    </tbody>\n",
              "</table>\n",
              "<p>... (407 rows omitted)</p>"
            ],
            "text/plain": [
              "PLAYER           | POSITION | TEAM          | '15-'16 SALARY\n",
              "Paul Millsap     | PF       | Atlanta Hawks | 18.6717\n",
              "Al Horford       | C        | Atlanta Hawks | 12\n",
              "Tiago Splitter   | C        | Atlanta Hawks | 9.75625\n",
              "Jeff Teague      | PG       | Atlanta Hawks | 8\n",
              "Kyle Korver      | SG       | Atlanta Hawks | 5.74648\n",
              "Thabo Sefolosha  | SF       | Atlanta Hawks | 4\n",
              "Mike Scott       | PF       | Atlanta Hawks | 3.33333\n",
              "Kent Bazemore    | SF       | Atlanta Hawks | 2\n",
              "Dennis Schroder  | PG       | Atlanta Hawks | 1.7634\n",
              "Tim Hardaway Jr. | SG       | Atlanta Hawks | 1.30452\n",
              "... (407 rows omitted)"
            ]
          },
          "metadata": {
            "tags": []
          },
          "execution_count": 4
        }
      ]
    },
    {
      "cell_type": "code",
      "metadata": {
        "id": "IFcQ4C9BuXYd",
        "outputId": "b80b5bfe-80f1-4053-c171-1a84398d0f68",
        "colab": {
          "base_uri": "https://localhost:8080/"
        }
      },
      "source": [
        "#O método num_columns fornece o número de colunas da tabela e num_rows fornece o número de linhas.\n",
        "nba_salaries.num_columns"
      ],
      "execution_count": 5,
      "outputs": [
        {
          "output_type": "execute_result",
          "data": {
            "text/plain": [
              "4"
            ]
          },
          "metadata": {
            "tags": []
          },
          "execution_count": 5
        }
      ]
    },
    {
      "cell_type": "code",
      "metadata": {
        "id": "efvcHzE9u32a",
        "outputId": "a3fe8576-072a-4e53-99e4-8087aeaf8b28",
        "colab": {
          "base_uri": "https://localhost:8080/"
        }
      },
      "source": [
        "nba_salaries.num_rows"
      ],
      "execution_count": 6,
      "outputs": [
        {
          "output_type": "execute_result",
          "data": {
            "text/plain": [
              "417"
            ]
          },
          "metadata": {
            "tags": []
          },
          "execution_count": 6
        }
      ]
    },
    {
      "cell_type": "code",
      "metadata": {
        "id": "cgqGWEvDvAu-",
        "outputId": "33d0db5f-5d5a-4f56-8084-3ba537faaab2",
        "colab": {
          "base_uri": "https://localhost:8080/"
        }
      },
      "source": [
        "#O método labels pode ser usado para listar os rótulos de todas as colunas\n",
        "nba_salaries.labels"
      ],
      "execution_count": 7,
      "outputs": [
        {
          "output_type": "execute_result",
          "data": {
            "text/plain": [
              "('PLAYER', 'POSITION', 'TEAM', \"'15-'16 SALARY\")"
            ]
          },
          "metadata": {
            "tags": []
          },
          "execution_count": 7
        }
      ]
    },
    {
      "cell_type": "code",
      "metadata": {
        "id": "GQo36JsSvInN",
        "outputId": "2c0907e1-05ef-4bce-d66d-acfcbd631cb2",
        "colab": {
          "base_uri": "https://localhost:8080/",
          "height": 388
        }
      },
      "source": [
        "#Podemos alterar os rótulos de coluna usando o método relabeled. Isso cria uma tabela e deixa nba_salaries inalterado.\n",
        "nba_salaries.relabeled(\"PLAYER\", 'JOGADOR')"
      ],
      "execution_count": 8,
      "outputs": [
        {
          "output_type": "execute_result",
          "data": {
            "text/html": [
              "<table border=\"1\" class=\"dataframe\">\n",
              "    <thead>\n",
              "        <tr>\n",
              "            <th>JOGADOR</th> <th>POSITION</th> <th>TEAM</th> <th>'15-'16 SALARY</th>\n",
              "        </tr>\n",
              "    </thead>\n",
              "    <tbody>\n",
              "        <tr>\n",
              "            <td>Paul Millsap    </td> <td>PF      </td> <td>Atlanta Hawks</td> <td>18.6717       </td>\n",
              "        </tr>\n",
              "        <tr>\n",
              "            <td>Al Horford      </td> <td>C       </td> <td>Atlanta Hawks</td> <td>12            </td>\n",
              "        </tr>\n",
              "        <tr>\n",
              "            <td>Tiago Splitter  </td> <td>C       </td> <td>Atlanta Hawks</td> <td>9.75625       </td>\n",
              "        </tr>\n",
              "        <tr>\n",
              "            <td>Jeff Teague     </td> <td>PG      </td> <td>Atlanta Hawks</td> <td>8             </td>\n",
              "        </tr>\n",
              "        <tr>\n",
              "            <td>Kyle Korver     </td> <td>SG      </td> <td>Atlanta Hawks</td> <td>5.74648       </td>\n",
              "        </tr>\n",
              "        <tr>\n",
              "            <td>Thabo Sefolosha </td> <td>SF      </td> <td>Atlanta Hawks</td> <td>4             </td>\n",
              "        </tr>\n",
              "        <tr>\n",
              "            <td>Mike Scott      </td> <td>PF      </td> <td>Atlanta Hawks</td> <td>3.33333       </td>\n",
              "        </tr>\n",
              "        <tr>\n",
              "            <td>Kent Bazemore   </td> <td>SF      </td> <td>Atlanta Hawks</td> <td>2             </td>\n",
              "        </tr>\n",
              "        <tr>\n",
              "            <td>Dennis Schroder </td> <td>PG      </td> <td>Atlanta Hawks</td> <td>1.7634        </td>\n",
              "        </tr>\n",
              "        <tr>\n",
              "            <td>Tim Hardaway Jr.</td> <td>SG      </td> <td>Atlanta Hawks</td> <td>1.30452       </td>\n",
              "        </tr>\n",
              "    </tbody>\n",
              "</table>\n",
              "<p>... (407 rows omitted)</p>"
            ],
            "text/plain": [
              "JOGADOR          | POSITION | TEAM          | '15-'16 SALARY\n",
              "Paul Millsap     | PF       | Atlanta Hawks | 18.6717\n",
              "Al Horford       | C        | Atlanta Hawks | 12\n",
              "Tiago Splitter   | C        | Atlanta Hawks | 9.75625\n",
              "Jeff Teague      | PG       | Atlanta Hawks | 8\n",
              "Kyle Korver      | SG       | Atlanta Hawks | 5.74648\n",
              "Thabo Sefolosha  | SF       | Atlanta Hawks | 4\n",
              "Mike Scott       | PF       | Atlanta Hawks | 3.33333\n",
              "Kent Bazemore    | SF       | Atlanta Hawks | 2\n",
              "Dennis Schroder  | PG       | Atlanta Hawks | 1.7634\n",
              "Tim Hardaway Jr. | SG       | Atlanta Hawks | 1.30452\n",
              "... (407 rows omitted)"
            ]
          },
          "metadata": {
            "tags": []
          },
          "execution_count": 8
        }
      ]
    },
    {
      "cell_type": "code",
      "metadata": {
        "id": "hRRrFZE6wVB3",
        "outputId": "8e718c48-02bc-458c-ab31-175fee8215bb",
        "colab": {
          "base_uri": "https://localhost:8080/",
          "height": 388
        }
      },
      "source": [
        "nba_salaries"
      ],
      "execution_count": 9,
      "outputs": [
        {
          "output_type": "execute_result",
          "data": {
            "text/html": [
              "<table border=\"1\" class=\"dataframe\">\n",
              "    <thead>\n",
              "        <tr>\n",
              "            <th>PLAYER</th> <th>POSITION</th> <th>TEAM</th> <th>'15-'16 SALARY</th>\n",
              "        </tr>\n",
              "    </thead>\n",
              "    <tbody>\n",
              "        <tr>\n",
              "            <td>Paul Millsap    </td> <td>PF      </td> <td>Atlanta Hawks</td> <td>18.6717       </td>\n",
              "        </tr>\n",
              "        <tr>\n",
              "            <td>Al Horford      </td> <td>C       </td> <td>Atlanta Hawks</td> <td>12            </td>\n",
              "        </tr>\n",
              "        <tr>\n",
              "            <td>Tiago Splitter  </td> <td>C       </td> <td>Atlanta Hawks</td> <td>9.75625       </td>\n",
              "        </tr>\n",
              "        <tr>\n",
              "            <td>Jeff Teague     </td> <td>PG      </td> <td>Atlanta Hawks</td> <td>8             </td>\n",
              "        </tr>\n",
              "        <tr>\n",
              "            <td>Kyle Korver     </td> <td>SG      </td> <td>Atlanta Hawks</td> <td>5.74648       </td>\n",
              "        </tr>\n",
              "        <tr>\n",
              "            <td>Thabo Sefolosha </td> <td>SF      </td> <td>Atlanta Hawks</td> <td>4             </td>\n",
              "        </tr>\n",
              "        <tr>\n",
              "            <td>Mike Scott      </td> <td>PF      </td> <td>Atlanta Hawks</td> <td>3.33333       </td>\n",
              "        </tr>\n",
              "        <tr>\n",
              "            <td>Kent Bazemore   </td> <td>SF      </td> <td>Atlanta Hawks</td> <td>2             </td>\n",
              "        </tr>\n",
              "        <tr>\n",
              "            <td>Dennis Schroder </td> <td>PG      </td> <td>Atlanta Hawks</td> <td>1.7634        </td>\n",
              "        </tr>\n",
              "        <tr>\n",
              "            <td>Tim Hardaway Jr.</td> <td>SG      </td> <td>Atlanta Hawks</td> <td>1.30452       </td>\n",
              "        </tr>\n",
              "    </tbody>\n",
              "</table>\n",
              "<p>... (407 rows omitted)</p>"
            ],
            "text/plain": [
              "PLAYER           | POSITION | TEAM          | '15-'16 SALARY\n",
              "Paul Millsap     | PF       | Atlanta Hawks | 18.6717\n",
              "Al Horford       | C        | Atlanta Hawks | 12\n",
              "Tiago Splitter   | C        | Atlanta Hawks | 9.75625\n",
              "Jeff Teague      | PG       | Atlanta Hawks | 8\n",
              "Kyle Korver      | SG       | Atlanta Hawks | 5.74648\n",
              "Thabo Sefolosha  | SF       | Atlanta Hawks | 4\n",
              "Mike Scott       | PF       | Atlanta Hawks | 3.33333\n",
              "Kent Bazemore    | SF       | Atlanta Hawks | 2\n",
              "Dennis Schroder  | PG       | Atlanta Hawks | 1.7634\n",
              "Tim Hardaway Jr. | SG       | Atlanta Hawks | 1.30452\n",
              "... (407 rows omitted)"
            ]
          },
          "metadata": {
            "tags": []
          },
          "execution_count": 9
        }
      ]
    },
    {
      "cell_type": "code",
      "metadata": {
        "id": "K9EmqRv_vj7N",
        "outputId": "721596dc-f7cd-451a-e8a0-8378d581cadb",
        "colab": {
          "base_uri": "https://localhost:8080/"
        }
      },
      "source": [
        "nba_salaries.column('PLAYER')"
      ],
      "execution_count": 10,
      "outputs": [
        {
          "output_type": "execute_result",
          "data": {
            "text/plain": [
              "array(['Paul Millsap', 'Al Horford', 'Tiago Splitter', 'Jeff Teague',\n",
              "       'Kyle Korver', 'Thabo Sefolosha', 'Mike Scott', 'Kent Bazemore',\n",
              "       'Dennis Schroder', 'Tim Hardaway Jr.', 'Walter Tavares',\n",
              "       'Jason Richardson', 'Lamar Patterson', 'Terran Petteway',\n",
              "       'Avery Bradley', 'Isaiah Thomas', 'Jae Crowder', 'Jonas Jerebko',\n",
              "       'Marcus Smart', 'Evan Turner', 'Tyler Zeller', 'Jared Sullinger',\n",
              "       'Kelly Olynyk', 'Perry Jones', 'Terry Rozier', 'James Young',\n",
              "       'Zoran Dragic', 'Jordan Mickey', 'R.J. Hunter', 'Joe Johnson',\n",
              "       'Thaddeus Young', 'Jarrett Jack', 'Bojan Bogdanovic',\n",
              "       'Sergey Karasev', 'Wayne Ellington', 'Shane Larkin',\n",
              "       'Andrea Bargnani', 'Rondae Hollis-Jefferson', 'Earl Clark',\n",
              "       'Chris McCullough', 'Thomas Robinson', 'Markel Brown',\n",
              "       'Al Jefferson', 'Nicolas Batum', 'Kemba Walker', 'Marvin Williams',\n",
              "       'Michael Kidd-Gilchrist', 'Spencer Hawes', 'Courtney Lee',\n",
              "       'Cody Zeller', 'Jeremy Lamb', 'Brian Roberts',\n",
              "       'Frank Kaminsky III', 'Jeremy Lin', 'P.J. Hairston',\n",
              "       'Damien Wilkins', 'Jorge Gutierrez', 'Tyler Hansbrough',\n",
              "       'Troy Daniels', 'Aaron Harrison', 'Derrick Rose', 'Jimmy Butler',\n",
              "       'Joakim Noah', 'Pau Gasol', 'Nikola Mirotic', 'Mike Dunleavy',\n",
              "       'Kirk Hinrich', 'Doug McDermott', 'Aaron Brooks', 'Tony Snell',\n",
              "       'Bobby Portis', \"E'Twaun Moore\", 'LeBron James', 'Kevin Love',\n",
              "       'Kyrie Irving', 'Tristan Thompson', 'Brendan Haywood',\n",
              "       'Iman Shumpert', 'Timofey Mozgov', 'Mo Williams', 'Sasha Kaun',\n",
              "       'Matthew Dellavedova', 'David Lee', 'Chandler Parsons',\n",
              "       'Dirk Nowitzki', 'Deron Williams', 'Zaza Pachulia', 'J.J. Barea',\n",
              "       'Devin Harris', 'Raymond Felton', 'Justin Anderson',\n",
              "       'JaVale McGee', 'John Jenkins', 'Danilo Gallinari',\n",
              "       'Kenneth Faried', 'Wilson Chandler', 'JJ Hickson', 'Jameer Nelson',\n",
              "       'Will Barton', 'Emmanuel Mudiay', 'Darrell Arthur', 'Jusuf Nurkic',\n",
              "       'Joffrey Lauvergne', 'Gary Harris', 'Nikola Jokic',\n",
              "       'Kostas Papanikolaou', 'Sean Kilpatrick', 'Reggie Jackson',\n",
              "       'Aron Baynes', 'Jodie Meeks', 'Andre Drummond',\n",
              "       'Kentavious Caldwell-Pope', 'Stanley Johnson', 'Joel Anthony',\n",
              "       'Danny Granger', 'Reggie Bullock', 'Darrun Hilliard',\n",
              "       'Klay Thompson', 'Draymond Green', 'Andrew Bogut',\n",
              "       'Andre Iguodala', 'Stephen Curry', 'Jason Thompson',\n",
              "       'Shaun Livingston', 'Harrison Barnes', 'Marreese Speights',\n",
              "       'Leandro Barbosa', 'Festus Ezeli', 'Brandon Rush', 'Kevon Looney',\n",
              "       'Anderson Varejao', 'Dwight Howard', 'James Harden', 'Ty Lawson',\n",
              "       'Corey Brewer', 'Trevor Ariza', 'Patrick Beverley',\n",
              "       'K.J. McDaniels', 'Terrence Jones', 'Donatas Motiejunas',\n",
              "       'Sam Dekker', 'Clint Capela', 'Montrezl Harrell', 'Paul George',\n",
              "       'Monta Ellis', 'Rodney Stuckey', 'Chase Budinger', 'C.J. Miles',\n",
              "       'Lavoy Allen', 'Jordan Hill', 'Ian Mahinmi', 'Myles Turner',\n",
              "       'Solomon Hill', 'Glenn Robinson III', 'Rakeem Christmas',\n",
              "       'Joe Young', 'Chris Paul', 'Blake Griffin', 'J.J. Redick',\n",
              "       'Jamal Crawford', 'Paul Pierce', 'Austin Rivers', 'C.J. Wilcox',\n",
              "       'Cole Aldrich', 'Wesley Johnson', 'Jordan Hamilton',\n",
              "       'Lester Hudson', 'Pablo Prigioni', 'Jeff Ayres', 'Kobe Bryant',\n",
              "       'Roy Hibbert', 'Louis Williams', 'Nick Young', \"D'Angelo Russell\",\n",
              "       'Julius Randle', 'Brandon Bass', 'Ryan Kelly', 'Larry Nance Jr.',\n",
              "       'Robert Sacre', 'Anthony Brown', 'Marc Gasol', 'Zach Randolph',\n",
              "       'Mike Conley', 'Jeff Green', 'Lance Stephenson', 'Brandan Wright',\n",
              "       'Tony Allen', 'Chris Andersen', 'Mario Chalmers', 'Vince Carter',\n",
              "       'Matt Barnes', 'Beno Udrih', 'Jordan Adams', 'Jarell Martin',\n",
              "       'JaMychal Green', 'Russ Smith', 'James Ennis', 'Jarnell Stokes',\n",
              "       'Jarrid Famous', 'Ryan Hollins', 'Elliot Williams', 'Chris Bosh',\n",
              "       'Dwyane Wade', 'Goran Dragic', 'Luol Deng', 'Josh McRoberts',\n",
              "       'Udonis Haslem', 'Justise Winslow', 'Henry Walker',\n",
              "       'Tyler Johnson', 'Greg Whittington', 'Josh Richardson',\n",
              "       'Corey Hawkins', 'Khris Middleton', 'O.J. Mayo', 'Greivis Vasquez',\n",
              "       'Jabari Parker', 'Jerryd Bayless', 'John Henson',\n",
              "       'Michael Carter-Williams', 'Miles Plumlee',\n",
              "       'Giannis Antetokounmpo', 'Rashad Vaughn', 'Tyler Ennis',\n",
              "       'Chris Copeland', 'Damien Inglis', 'Ricky Rubio', 'Nikola Pekovic',\n",
              "       'Kevin Garnett', 'Kevin Martin', 'Andrew Wiggins',\n",
              "       'Karl-Anthony Towns', 'Nemanja Bjelica', 'Zach LaVine',\n",
              "       'Shabazz Muhammad', 'Adreian Payne', 'Gorgui Dieng', 'Tyus Jones',\n",
              "       'Damjan Rudez', 'Eric Gordon', 'Tyreke Evans', 'Jrue Holiday',\n",
              "       'Omer Asik', 'Ryan Anderson', 'Anthony Davis', 'Alexis Ajinca',\n",
              "       'Quincy Pondexter', 'Norris Cole', 'Dante Cunningham',\n",
              "       'Alonzo Gee', 'Toney Douglas', 'Luke Babbitt', 'Kendrick Perkins',\n",
              "       'Bo McCalebb', 'Bryce Dejean-Jones', 'Carmelo Anthony',\n",
              "       'Robin Lopez', 'Arron Afflalo', 'Jose Calderon',\n",
              "       'Kristaps Porzingis', 'Derrick Williams', \"Kyle O'Quinn\",\n",
              "       'Lance Thomas', 'Lou Amundson', 'Jerian Grant', 'Jimmer Fredette',\n",
              "       'Langston Galloway', 'Thanasis Antetokounmpo', 'Kevin Durant',\n",
              "       'Russell Westbrook', 'Enes Kanter', 'Serge Ibaka', 'Dion Waiters',\n",
              "       'Kyle Singler', 'Nick Collison', 'Anthony Morrow', 'Randy Foye',\n",
              "       'D.J. Augustin', 'Steven Adams', 'Cameron Payne', 'Mitch McGary',\n",
              "       'Andre Roberson', 'Josh Huestis', 'Steve Novak', 'Tobias Harris',\n",
              "       'Nikola Vucevic', 'Brandon Jennings', 'Channing Frye',\n",
              "       'Ersan Ilyasova', 'Victor Oladipo', 'Jason Smith', 'Aaron Gordon',\n",
              "       'Mario Hezonja', 'Elfrid Payton', 'Andrew Nicholson',\n",
              "       'Evan Fournier', 'Shabazz Napier', 'Keith Appling',\n",
              "       'Gerald Wallace', 'Carl Landry', 'Joel Embiid', 'Jahlil Okafor',\n",
              "       'Nerlens Noel', 'Nik Stauskas', 'Furkan Aldemir', 'Tony Wroten',\n",
              "       'Kendall Marshall', 'Richaun Holmes', 'Robert Covington',\n",
              "       'Jerami Grant', 'JaKarr Sampson', 'Eric Bledsoe', 'Tyson Chandler',\n",
              "       'Mirza Teletovic', 'P.J. Tucker', 'Alex Len', 'Devin Booker',\n",
              "       'T.J. Warren', 'Archie Goodwin', 'Jon Leuer', 'Jerel McNeal',\n",
              "       'Terrico White', 'Bryce Cotton', 'Lorenzo Brown',\n",
              "       'Orlando Johnson', 'Phil Pressey', 'Jordan McRae',\n",
              "       'Cory Jefferson', 'Al-Farouq Aminu', 'Ed Davis',\n",
              "       'Gerald Henderson', 'Chris Kaman', 'Damian Lillard',\n",
              "       'Meyers Leonard', 'Maurice Harkless', 'Noah Vonleh',\n",
              "       'C.J. McCollum', 'Mason Plumlee', 'Allen Crabbe',\n",
              "       'Pat Connaughton', 'Luis Montero', 'Cliff Alexander',\n",
              "       'DeMarcus Cousins', 'Rudy Gay', 'Rajon Rondo', 'Kosta Koufos',\n",
              "       'Marco Belinelli', 'Darren Collison', 'Willie Cauley-Stein',\n",
              "       'Ben McLemore', 'Omri Casspi', 'Caron Butler', 'James Anderson',\n",
              "       'LaMarcus Aldridge', 'Kawhi Leonard', 'Tony Parker', 'Danny Green',\n",
              "       'Boris Diaw', 'Tim Duncan', 'Patty Mills', 'Manu Ginobili',\n",
              "       'David West', 'Boban Marjanovic', 'Reggie Williams',\n",
              "       'Kyle Anderson', 'Ray McCallum', 'DeMarre Carroll', 'Kyle Lowry',\n",
              "       'DeMar DeRozan', 'Cory Joseph', 'Patrick Patterson',\n",
              "       'Jonas Valanciunas', 'Terrence Ross', 'Luis Scola',\n",
              "       'Bismack Biyombo', 'Luke Ridnour', 'James Johnson',\n",
              "       'Lucas Nogueira', 'Bruno Caboclo', 'Delon Wright', 'Norman Powell',\n",
              "       'Shannon Scott', 'Ronald Roberts Jr.', 'Gordon Hayward',\n",
              "       'Alec Burks', 'Trevor Booker', 'Dante Exum', 'Tibor Pleiss',\n",
              "       'Trey Burke', 'Shelvin Mack', 'Trey Lyles', 'Joe Ingles',\n",
              "       'Rodney Hood', 'Rudy Gobert', 'Chris Johnson', 'Grant Jerrett',\n",
              "       'Jeff Withey', 'Raul Neto', 'Treveon Graham', 'Erick Green',\n",
              "       'John Wall', 'Nene Hilario', 'Marcin Gortat', 'Markieff Morris',\n",
              "       'Bradley Beal', 'Martell Webster', 'Otto Porter Jr.',\n",
              "       'Kris Humphries', 'Jared Dudley', 'Alan Anderson', 'Drew Gooden',\n",
              "       'Ramon Sessions', 'Gary Neal', 'DeJuan Blair', 'Kelly Oubre Jr.',\n",
              "       'Garrett Temple', 'Jarell Eddie'], dtype='<U24')"
            ]
          },
          "metadata": {
            "tags": []
          },
          "execution_count": 10
        }
      ]
    },
    {
      "cell_type": "code",
      "metadata": {
        "id": "jJMF_5kgwl1v",
        "outputId": "da341b1c-56b1-483a-f2ea-c445a2da2736",
        "colab": {
          "base_uri": "https://localhost:8080/",
          "height": 35
        }
      },
      "source": [
        "nba_salaries.column('PLAYER').item(0)"
      ],
      "execution_count": 11,
      "outputs": [
        {
          "output_type": "execute_result",
          "data": {
            "application/vnd.google.colaboratory.intrinsic+json": {
              "type": "string"
            },
            "text/plain": [
              "'Paul Millsap'"
            ]
          },
          "metadata": {
            "tags": []
          },
          "execution_count": 11
        }
      ]
    },
    {
      "cell_type": "code",
      "metadata": {
        "id": "tmspa2nHx7qd",
        "outputId": "98abc1ae-f5c3-463a-e4fc-0ff377bb9971",
        "colab": {
          "base_uri": "https://localhost:8080/",
          "height": 388
        }
      },
      "source": [
        "nba = nba_salaries.relabeled(\"'15-'16 SALARY\", 'Salary')\n",
        "nba.sort('Salary')"
      ],
      "execution_count": 12,
      "outputs": [
        {
          "output_type": "execute_result",
          "data": {
            "text/html": [
              "<table border=\"1\" class=\"dataframe\">\n",
              "    <thead>\n",
              "        <tr>\n",
              "            <th>PLAYER</th> <th>POSITION</th> <th>TEAM</th> <th>Salary</th>\n",
              "        </tr>\n",
              "    </thead>\n",
              "    <tbody>\n",
              "        <tr>\n",
              "            <td>Thanasis Antetokounmpo</td> <td>SF      </td> <td>New York Knicks     </td> <td>0.030888</td>\n",
              "        </tr>\n",
              "        <tr>\n",
              "            <td>Jordan McRae          </td> <td>SG      </td> <td>Phoenix Suns        </td> <td>0.049709</td>\n",
              "        </tr>\n",
              "        <tr>\n",
              "            <td>Cory Jefferson        </td> <td>PF      </td> <td>Phoenix Suns        </td> <td>0.049709</td>\n",
              "        </tr>\n",
              "        <tr>\n",
              "            <td>Elliot Williams       </td> <td>SG      </td> <td>Memphis Grizzlies   </td> <td>0.055722</td>\n",
              "        </tr>\n",
              "        <tr>\n",
              "            <td>Orlando Johnson       </td> <td>SG      </td> <td>Phoenix Suns        </td> <td>0.055722</td>\n",
              "        </tr>\n",
              "        <tr>\n",
              "            <td>Phil Pressey          </td> <td>PG      </td> <td>Phoenix Suns        </td> <td>0.055722</td>\n",
              "        </tr>\n",
              "        <tr>\n",
              "            <td>Keith Appling         </td> <td>PG      </td> <td>Orlando Magic       </td> <td>0.061776</td>\n",
              "        </tr>\n",
              "        <tr>\n",
              "            <td>Sean Kilpatrick       </td> <td>SG      </td> <td>Denver Nuggets      </td> <td>0.099418</td>\n",
              "        </tr>\n",
              "        <tr>\n",
              "            <td>Erick Green           </td> <td>PG      </td> <td>Utah Jazz           </td> <td>0.099418</td>\n",
              "        </tr>\n",
              "        <tr>\n",
              "            <td>Jeff Ayres            </td> <td>PF      </td> <td>Los Angeles Clippers</td> <td>0.111444</td>\n",
              "        </tr>\n",
              "    </tbody>\n",
              "</table>\n",
              "<p>... (407 rows omitted)</p>"
            ],
            "text/plain": [
              "PLAYER                 | POSITION | TEAM                 | Salary\n",
              "Thanasis Antetokounmpo | SF       | New York Knicks      | 0.030888\n",
              "Jordan McRae           | SG       | Phoenix Suns         | 0.049709\n",
              "Cory Jefferson         | PF       | Phoenix Suns         | 0.049709\n",
              "Elliot Williams        | SG       | Memphis Grizzlies    | 0.055722\n",
              "Orlando Johnson        | SG       | Phoenix Suns         | 0.055722\n",
              "Phil Pressey           | PG       | Phoenix Suns         | 0.055722\n",
              "Keith Appling          | PG       | Orlando Magic        | 0.061776\n",
              "Sean Kilpatrick        | SG       | Denver Nuggets       | 0.099418\n",
              "Erick Green            | PG       | Utah Jazz            | 0.099418\n",
              "Jeff Ayres             | PF       | Los Angeles Clippers | 0.111444\n",
              "... (407 rows omitted)"
            ]
          },
          "metadata": {
            "tags": []
          },
          "execution_count": 12
        }
      ]
    },
    {
      "cell_type": "code",
      "metadata": {
        "id": "nna_r-nWy95r",
        "outputId": "aa4545e5-dd4c-4680-89b0-6489ab091138",
        "colab": {
          "base_uri": "https://localhost:8080/",
          "height": 388
        }
      },
      "source": [
        "#Para ordenar as linhas da tabela em ordem decrescente de salário, devemos usar sort com a opção descending=True.\n",
        "\n",
        "nba.sort('Salary', descending=True)"
      ],
      "execution_count": 13,
      "outputs": [
        {
          "output_type": "execute_result",
          "data": {
            "text/html": [
              "<table border=\"1\" class=\"dataframe\">\n",
              "    <thead>\n",
              "        <tr>\n",
              "            <th>PLAYER</th> <th>POSITION</th> <th>TEAM</th> <th>Salary</th>\n",
              "        </tr>\n",
              "    </thead>\n",
              "    <tbody>\n",
              "        <tr>\n",
              "            <td>Kobe Bryant    </td> <td>SF      </td> <td>Los Angeles Lakers   </td> <td>25     </td>\n",
              "        </tr>\n",
              "        <tr>\n",
              "            <td>Joe Johnson    </td> <td>SF      </td> <td>Brooklyn Nets        </td> <td>24.8949</td>\n",
              "        </tr>\n",
              "        <tr>\n",
              "            <td>LeBron James   </td> <td>SF      </td> <td>Cleveland Cavaliers  </td> <td>22.9705</td>\n",
              "        </tr>\n",
              "        <tr>\n",
              "            <td>Carmelo Anthony</td> <td>SF      </td> <td>New York Knicks      </td> <td>22.875 </td>\n",
              "        </tr>\n",
              "        <tr>\n",
              "            <td>Dwight Howard  </td> <td>C       </td> <td>Houston Rockets      </td> <td>22.3594</td>\n",
              "        </tr>\n",
              "        <tr>\n",
              "            <td>Chris Bosh     </td> <td>PF      </td> <td>Miami Heat           </td> <td>22.1927</td>\n",
              "        </tr>\n",
              "        <tr>\n",
              "            <td>Chris Paul     </td> <td>PG      </td> <td>Los Angeles Clippers </td> <td>21.4687</td>\n",
              "        </tr>\n",
              "        <tr>\n",
              "            <td>Kevin Durant   </td> <td>SF      </td> <td>Oklahoma City Thunder</td> <td>20.1586</td>\n",
              "        </tr>\n",
              "        <tr>\n",
              "            <td>Derrick Rose   </td> <td>PG      </td> <td>Chicago Bulls        </td> <td>20.0931</td>\n",
              "        </tr>\n",
              "        <tr>\n",
              "            <td>Dwyane Wade    </td> <td>SG      </td> <td>Miami Heat           </td> <td>20     </td>\n",
              "        </tr>\n",
              "    </tbody>\n",
              "</table>\n",
              "<p>... (407 rows omitted)</p>"
            ],
            "text/plain": [
              "PLAYER          | POSITION | TEAM                  | Salary\n",
              "Kobe Bryant     | SF       | Los Angeles Lakers    | 25\n",
              "Joe Johnson     | SF       | Brooklyn Nets         | 24.8949\n",
              "LeBron James    | SF       | Cleveland Cavaliers   | 22.9705\n",
              "Carmelo Anthony | SF       | New York Knicks       | 22.875\n",
              "Dwight Howard   | C        | Houston Rockets       | 22.3594\n",
              "Chris Bosh      | PF       | Miami Heat            | 22.1927\n",
              "Chris Paul      | PG       | Los Angeles Clippers  | 21.4687\n",
              "Kevin Durant    | SF       | Oklahoma City Thunder | 20.1586\n",
              "Derrick Rose    | PG       | Chicago Bulls         | 20.0931\n",
              "Dwyane Wade     | SG       | Miami Heat            | 20\n",
              "... (407 rows omitted)"
            ]
          },
          "metadata": {
            "tags": []
          },
          "execution_count": 13
        }
      ]
    },
    {
      "cell_type": "code",
      "metadata": {
        "id": "hKGlqUgbzmWH",
        "outputId": "5bfc94ef-142a-4e42-cf48-4810fb66999c",
        "colab": {
          "base_uri": "https://localhost:8080/",
          "height": 80
        }
      },
      "source": [
        "nba.take(0)"
      ],
      "execution_count": 14,
      "outputs": [
        {
          "output_type": "execute_result",
          "data": {
            "text/html": [
              "<table border=\"1\" class=\"dataframe\">\n",
              "    <thead>\n",
              "        <tr>\n",
              "            <th>PLAYER</th> <th>POSITION</th> <th>TEAM</th> <th>Salary</th>\n",
              "        </tr>\n",
              "    </thead>\n",
              "    <tbody>\n",
              "        <tr>\n",
              "            <td>Paul Millsap</td> <td>PF      </td> <td>Atlanta Hawks</td> <td>18.6717</td>\n",
              "        </tr>\n",
              "    </tbody>\n",
              "</table>"
            ],
            "text/plain": [
              "PLAYER       | POSITION | TEAM          | Salary\n",
              "Paul Millsap | PF       | Atlanta Hawks | 18.6717"
            ]
          },
          "metadata": {
            "tags": []
          },
          "execution_count": 14
        }
      ]
    },
    {
      "cell_type": "code",
      "metadata": {
        "id": "PqrVglXV59TZ",
        "outputId": "37429217-fc5a-4655-942b-2fa03a8d9452",
        "colab": {
          "base_uri": "https://localhost:8080/",
          "height": 142
        }
      },
      "source": [
        "#O método take usa um conjunto específico de linhas.\n",
        "nba.take(np.arange(3,6))"
      ],
      "execution_count": 15,
      "outputs": [
        {
          "output_type": "execute_result",
          "data": {
            "text/html": [
              "<table border=\"1\" class=\"dataframe\">\n",
              "    <thead>\n",
              "        <tr>\n",
              "            <th>PLAYER</th> <th>POSITION</th> <th>TEAM</th> <th>Salary</th>\n",
              "        </tr>\n",
              "    </thead>\n",
              "    <tbody>\n",
              "        <tr>\n",
              "            <td>Jeff Teague    </td> <td>PG      </td> <td>Atlanta Hawks</td> <td>8      </td>\n",
              "        </tr>\n",
              "        <tr>\n",
              "            <td>Kyle Korver    </td> <td>SG      </td> <td>Atlanta Hawks</td> <td>5.74648</td>\n",
              "        </tr>\n",
              "        <tr>\n",
              "            <td>Thabo Sefolosha</td> <td>SF      </td> <td>Atlanta Hawks</td> <td>4      </td>\n",
              "        </tr>\n",
              "    </tbody>\n",
              "</table>"
            ],
            "text/plain": [
              "PLAYER          | POSITION | TEAM          | Salary\n",
              "Jeff Teague     | PG       | Atlanta Hawks | 8\n",
              "Kyle Korver     | SG       | Atlanta Hawks | 5.74648\n",
              "Thabo Sefolosha | SF       | Atlanta Hawks | 4"
            ]
          },
          "metadata": {
            "tags": []
          },
          "execution_count": 15
        }
      ]
    },
    {
      "cell_type": "code",
      "metadata": {
        "id": "gDjvoUbC6D3s",
        "outputId": "c5df28c5-8829-4ca8-914e-169d774b9bfd",
        "colab": {
          "base_uri": "https://localhost:8080/",
          "height": 204
        }
      },
      "source": [
        "#Se quisermos uma tabela com os cinco jogadores mais bem pagos, podemos primeiro classificar a lista por salário e, em seguida, take as primeiras cinco linhas:\n",
        "\n",
        "nba.sort('Salary', descending=True).take(np.arange(5))"
      ],
      "execution_count": 16,
      "outputs": [
        {
          "output_type": "execute_result",
          "data": {
            "text/html": [
              "<table border=\"1\" class=\"dataframe\">\n",
              "    <thead>\n",
              "        <tr>\n",
              "            <th>PLAYER</th> <th>POSITION</th> <th>TEAM</th> <th>Salary</th>\n",
              "        </tr>\n",
              "    </thead>\n",
              "    <tbody>\n",
              "        <tr>\n",
              "            <td>Kobe Bryant    </td> <td>SF      </td> <td>Los Angeles Lakers </td> <td>25     </td>\n",
              "        </tr>\n",
              "        <tr>\n",
              "            <td>Joe Johnson    </td> <td>SF      </td> <td>Brooklyn Nets      </td> <td>24.8949</td>\n",
              "        </tr>\n",
              "        <tr>\n",
              "            <td>LeBron James   </td> <td>SF      </td> <td>Cleveland Cavaliers</td> <td>22.9705</td>\n",
              "        </tr>\n",
              "        <tr>\n",
              "            <td>Carmelo Anthony</td> <td>SF      </td> <td>New York Knicks    </td> <td>22.875 </td>\n",
              "        </tr>\n",
              "        <tr>\n",
              "            <td>Dwight Howard  </td> <td>C       </td> <td>Houston Rockets    </td> <td>22.3594</td>\n",
              "        </tr>\n",
              "    </tbody>\n",
              "</table>"
            ],
            "text/plain": [
              "PLAYER          | POSITION | TEAM                | Salary\n",
              "Kobe Bryant     | SF       | Los Angeles Lakers  | 25\n",
              "Joe Johnson     | SF       | Brooklyn Nets       | 24.8949\n",
              "LeBron James    | SF       | Cleveland Cavaliers | 22.9705\n",
              "Carmelo Anthony | SF       | New York Knicks     | 22.875\n",
              "Dwight Howard   | C        | Houston Rockets     | 22.3594"
            ]
          },
          "metadata": {
            "tags": []
          },
          "execution_count": 16
        }
      ]
    },
    {
      "cell_type": "code",
      "metadata": {
        "id": "8Zg6E4El7mTY",
        "outputId": "aab69c2b-e192-410a-aef5-a88d3fe7d4a8",
        "colab": {
          "base_uri": "https://localhost:8080/",
          "height": 388
        }
      },
      "source": [
        "#todos aqueles que ganharam mais de US$ 10 milhões\n",
        "\n",
        "nba.where('Salary', are.above(10))"
      ],
      "execution_count": 17,
      "outputs": [
        {
          "output_type": "execute_result",
          "data": {
            "text/html": [
              "<table border=\"1\" class=\"dataframe\">\n",
              "    <thead>\n",
              "        <tr>\n",
              "            <th>PLAYER</th> <th>POSITION</th> <th>TEAM</th> <th>Salary</th>\n",
              "        </tr>\n",
              "    </thead>\n",
              "    <tbody>\n",
              "        <tr>\n",
              "            <td>Paul Millsap  </td> <td>PF      </td> <td>Atlanta Hawks    </td> <td>18.6717</td>\n",
              "        </tr>\n",
              "        <tr>\n",
              "            <td>Al Horford    </td> <td>C       </td> <td>Atlanta Hawks    </td> <td>12     </td>\n",
              "        </tr>\n",
              "        <tr>\n",
              "            <td>Joe Johnson   </td> <td>SF      </td> <td>Brooklyn Nets    </td> <td>24.8949</td>\n",
              "        </tr>\n",
              "        <tr>\n",
              "            <td>Thaddeus Young</td> <td>PF      </td> <td>Brooklyn Nets    </td> <td>11.236 </td>\n",
              "        </tr>\n",
              "        <tr>\n",
              "            <td>Al Jefferson  </td> <td>C       </td> <td>Charlotte Hornets</td> <td>13.5   </td>\n",
              "        </tr>\n",
              "        <tr>\n",
              "            <td>Nicolas Batum </td> <td>SG      </td> <td>Charlotte Hornets</td> <td>13.1253</td>\n",
              "        </tr>\n",
              "        <tr>\n",
              "            <td>Kemba Walker  </td> <td>PG      </td> <td>Charlotte Hornets</td> <td>12     </td>\n",
              "        </tr>\n",
              "        <tr>\n",
              "            <td>Derrick Rose  </td> <td>PG      </td> <td>Chicago Bulls    </td> <td>20.0931</td>\n",
              "        </tr>\n",
              "        <tr>\n",
              "            <td>Jimmy Butler  </td> <td>SG      </td> <td>Chicago Bulls    </td> <td>16.4075</td>\n",
              "        </tr>\n",
              "        <tr>\n",
              "            <td>Joakim Noah   </td> <td>C       </td> <td>Chicago Bulls    </td> <td>13.4   </td>\n",
              "        </tr>\n",
              "    </tbody>\n",
              "</table>\n",
              "<p>... (59 rows omitted)</p>"
            ],
            "text/plain": [
              "PLAYER         | POSITION | TEAM              | Salary\n",
              "Paul Millsap   | PF       | Atlanta Hawks     | 18.6717\n",
              "Al Horford     | C        | Atlanta Hawks     | 12\n",
              "Joe Johnson    | SF       | Brooklyn Nets     | 24.8949\n",
              "Thaddeus Young | PF       | Brooklyn Nets     | 11.236\n",
              "Al Jefferson   | C        | Charlotte Hornets | 13.5\n",
              "Nicolas Batum  | SG       | Charlotte Hornets | 13.1253\n",
              "Kemba Walker   | PG       | Charlotte Hornets | 12\n",
              "Derrick Rose   | PG       | Chicago Bulls     | 20.0931\n",
              "Jimmy Butler   | SG       | Chicago Bulls     | 16.4075\n",
              "Joakim Noah    | C        | Chicago Bulls     | 13.4\n",
              "... (59 rows omitted)"
            ]
          },
          "metadata": {
            "tags": []
          },
          "execution_count": 17
        }
      ]
    },
    {
      "cell_type": "code",
      "metadata": {
        "id": "ihDYIoPn8mbm",
        "outputId": "716260b7-aea5-48ad-f962-1617b497077a",
        "colab": {
          "base_uri": "https://localhost:8080/",
          "height": 388
        }
      },
      "source": [
        "nba.where('Salary', are.above(10)).sort('Salary')"
      ],
      "execution_count": 18,
      "outputs": [
        {
          "output_type": "execute_result",
          "data": {
            "text/html": [
              "<table border=\"1\" class=\"dataframe\">\n",
              "    <thead>\n",
              "        <tr>\n",
              "            <th>PLAYER</th> <th>POSITION</th> <th>TEAM</th> <th>Salary</th>\n",
              "        </tr>\n",
              "    </thead>\n",
              "    <tbody>\n",
              "        <tr>\n",
              "            <td>DeMar DeRozan  </td> <td>SG      </td> <td>Toronto Raptors     </td> <td>10.05  </td>\n",
              "        </tr>\n",
              "        <tr>\n",
              "            <td>Gerald Wallace </td> <td>SF      </td> <td>Philadelphia 76ers  </td> <td>10.1059</td>\n",
              "        </tr>\n",
              "        <tr>\n",
              "            <td>Luol Deng      </td> <td>SF      </td> <td>Miami Heat          </td> <td>10.1516</td>\n",
              "        </tr>\n",
              "        <tr>\n",
              "            <td>Monta Ellis    </td> <td>SG      </td> <td>Indiana Pacers      </td> <td>10.3   </td>\n",
              "        </tr>\n",
              "        <tr>\n",
              "            <td>Wilson Chandler</td> <td>SF      </td> <td>Denver Nuggets      </td> <td>10.4494</td>\n",
              "        </tr>\n",
              "        <tr>\n",
              "            <td>Brendan Haywood</td> <td>C       </td> <td>Cleveland Cavaliers </td> <td>10.5225</td>\n",
              "        </tr>\n",
              "        <tr>\n",
              "            <td>Jrue Holiday   </td> <td>PG      </td> <td>New Orleans Pelicans</td> <td>10.5955</td>\n",
              "        </tr>\n",
              "        <tr>\n",
              "            <td>Tyreke Evans   </td> <td>SG      </td> <td>New Orleans Pelicans</td> <td>10.7346</td>\n",
              "        </tr>\n",
              "        <tr>\n",
              "            <td>Marcin Gortat  </td> <td>C       </td> <td>Washington Wizards  </td> <td>11.2174</td>\n",
              "        </tr>\n",
              "        <tr>\n",
              "            <td>Thaddeus Young </td> <td>PF      </td> <td>Brooklyn Nets       </td> <td>11.236 </td>\n",
              "        </tr>\n",
              "    </tbody>\n",
              "</table>\n",
              "<p>... (59 rows omitted)</p>"
            ],
            "text/plain": [
              "PLAYER          | POSITION | TEAM                 | Salary\n",
              "DeMar DeRozan   | SG       | Toronto Raptors      | 10.05\n",
              "Gerald Wallace  | SF       | Philadelphia 76ers   | 10.1059\n",
              "Luol Deng       | SF       | Miami Heat           | 10.1516\n",
              "Monta Ellis     | SG       | Indiana Pacers       | 10.3\n",
              "Wilson Chandler | SF       | Denver Nuggets       | 10.4494\n",
              "Brendan Haywood | C        | Cleveland Cavaliers  | 10.5225\n",
              "Jrue Holiday    | PG       | New Orleans Pelicans | 10.5955\n",
              "Tyreke Evans    | SG       | New Orleans Pelicans | 10.7346\n",
              "Marcin Gortat   | C        | Washington Wizards   | 11.2174\n",
              "Thaddeus Young  | PF       | Brooklyn Nets        | 11.236\n",
              "... (59 rows omitted)"
            ]
          },
          "metadata": {
            "tags": []
          },
          "execution_count": 18
        }
      ]
    },
    {
      "cell_type": "code",
      "metadata": {
        "id": "qoVwaKG_9OCI",
        "outputId": "630261ab-7f77-42b7-8efb-3af5b1d5d69a",
        "colab": {
          "base_uri": "https://localhost:8080/",
          "height": 80
        }
      },
      "source": [
        "#para saber quanto ganhou determinado jogador\n",
        "\n",
        "nba.where('PLAYER', are.equal_to('Stephen Curry'))"
      ],
      "execution_count": 23,
      "outputs": [
        {
          "output_type": "execute_result",
          "data": {
            "text/html": [
              "<table border=\"1\" class=\"dataframe\">\n",
              "    <thead>\n",
              "        <tr>\n",
              "            <th>PLAYER</th> <th>POSITION</th> <th>TEAM</th> <th>Salary</th>\n",
              "        </tr>\n",
              "    </thead>\n",
              "    <tbody>\n",
              "        <tr>\n",
              "            <td>Stephen Curry</td> <td>PG      </td> <td>Golden State Warriors</td> <td>11.3708</td>\n",
              "        </tr>\n",
              "    </tbody>\n",
              "</table>"
            ],
            "text/plain": [
              "PLAYER        | POSITION | TEAM                  | Salary\n",
              "Stephen Curry | PG       | Golden State Warriors | 11.3708"
            ]
          },
          "metadata": {
            "tags": []
          },
          "execution_count": 23
        }
      ]
    },
    {
      "cell_type": "code",
      "metadata": {
        "id": "CRCIV6mlTOxy",
        "outputId": "6cf998f9-a364-44fa-bf0f-01e81db07724",
        "colab": {
          "base_uri": "https://localhost:8080/",
          "height": 80
        }
      },
      "source": [
        "# equivalent a nba.where('PLAYER', are.equal_to('Stephen Curry'))\n",
        "\n",
        "nba.where('PLAYER', 'Stephen Curry')"
      ],
      "execution_count": 24,
      "outputs": [
        {
          "output_type": "execute_result",
          "data": {
            "text/html": [
              "<table border=\"1\" class=\"dataframe\">\n",
              "    <thead>\n",
              "        <tr>\n",
              "            <th>PLAYER</th> <th>POSITION</th> <th>TEAM</th> <th>Salary</th>\n",
              "        </tr>\n",
              "    </thead>\n",
              "    <tbody>\n",
              "        <tr>\n",
              "            <td>Stephen Curry</td> <td>PG      </td> <td>Golden State Warriors</td> <td>11.3708</td>\n",
              "        </tr>\n",
              "    </tbody>\n",
              "</table>"
            ],
            "text/plain": [
              "PLAYER        | POSITION | TEAM                  | Salary\n",
              "Stephen Curry | PG       | Golden State Warriors | 11.3708"
            ]
          },
          "metadata": {
            "tags": []
          },
          "execution_count": 24
        }
      ]
    },
    {
      "cell_type": "code",
      "metadata": {
        "id": "H6gmJvCzTe01"
      },
      "source": [
        "#| Predicate                       | Description                                                 |\n",
        "#|---------------------------------|-------------------------------------------------------------|\n",
        "#| `are.equal_to(Z)`               | Equal to `Z`                                                |\n",
        "#| `are.above(x)`                  | Greater than `x`                                            |\n",
        "#| `are.above_or_equal_to(x)`      | Greater than or equal to `x`                                |\n",
        "#| `are.below(x)`                  | Less than `x`                                               |\n",
        "#| `are.below_or_equal_to(x)`      | Less than or equal to `x`                                   |\n",
        "#| `are.between(x, y)`             | Greater than or equal to `x`, and less than `y`             |\n",
        "#| `are.strictly_between(x, y)`    | Greater than `x` and less than `y`                          |\n",
        "#| `are.between_or_equal_to(x, y)` | Greater than or equal to `x`, and less than or equal to `y` |\n",
        "#| `are.containing(S)`             | Contains the string `S`                                     |\n",
        "#| `are.not_equal_to(Z)`           | Not equal to `Z` |\n",
        "#| `are.not_above(x)`              | Not above `x`    | "
      ],
      "execution_count": null,
      "outputs": []
    },
    {
      "cell_type": "code",
      "metadata": {
        "id": "Fd4I3XjLUHBb"
      },
      "source": [
        ""
      ],
      "execution_count": null,
      "outputs": []
    }
  ]
}