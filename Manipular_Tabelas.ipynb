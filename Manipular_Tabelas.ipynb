{
  "nbformat": 4,
  "nbformat_minor": 0,
  "metadata": {
    "colab": {
      "name": "Manipular Tabelas.ipynb",
      "provenance": [],
      "mount_file_id": "1DKFJA-mkzL8B6hrSsLQ0Z2dkmP2AY05c",
      "authorship_tag": "ABX9TyPCqIGHASzMinTWLhF/RQmL",
      "include_colab_link": true
    },
    "kernelspec": {
      "name": "python3",
      "display_name": "Python 3"
    }
  },
  "cells": [
    {
      "cell_type": "markdown",
      "metadata": {
        "id": "view-in-github",
        "colab_type": "text"
      },
      "source": [
        "<a href=\"https://colab.research.google.com/github/natbelo/C-digos-de-Estudo/blob/main/Manipular_Tabelas.ipynb\" target=\"_parent\"><img src=\"https://colab.research.google.com/assets/colab-badge.svg\" alt=\"Open In Colab\"/></a>"
      ]
    },
    {
      "cell_type": "code",
      "metadata": {
        "id": "4I3bzoRRpR5Y",
        "colab": {
          "base_uri": "https://localhost:8080/"
        },
        "outputId": "25fe676c-136f-4b1d-e850-7b8bcaec7ccd"
      },
      "source": [
        "from datascience import *"
      ],
      "execution_count": null,
      "outputs": [
        {
          "output_type": "stream",
          "text": [
            "/usr/local/lib/python3.6/dist-packages/datascience/tables.py:17: MatplotlibDeprecationWarning: The 'warn' parameter of use() is deprecated since Matplotlib 3.1 and will be removed in 3.3.  If any parameter follows 'warn', they should be pass as keyword, not positionally.\n",
            "  matplotlib.use('agg', warn=False)\n",
            "/usr/local/lib/python3.6/dist-packages/datascience/util.py:10: MatplotlibDeprecationWarning: The 'warn' parameter of use() is deprecated since Matplotlib 3.1 and will be removed in 3.3.  If any parameter follows 'warn', they should be pass as keyword, not positionally.\n",
            "  matplotlib.use('agg', warn=False)\n"
          ],
          "name": "stderr"
        }
      ]
    },
    {
      "cell_type": "code",
      "metadata": {
        "id": "c8W0mlf3teSH"
      },
      "source": [
        "import numpy as np"
      ],
      "execution_count": null,
      "outputs": []
    },
    {
      "cell_type": "code",
      "metadata": {
        "id": "tRDitDynthsl"
      },
      "source": [
        "nba_salaries = Table.read_table('/content/drive/My Drive/Cloud Skills Challenge - Microsoft/nba_salaries.csv')"
      ],
      "execution_count": null,
      "outputs": []
    },
    {
      "cell_type": "code",
      "metadata": {
        "id": "UIIAFQb9tv50",
        "colab": {
          "base_uri": "https://localhost:8080/",
          "height": 388
        },
        "outputId": "bc4e36f3-8882-4bff-a13a-c453974793b0"
      },
      "source": [
        "nba_salaries"
      ],
      "execution_count": null,
      "outputs": [
        {
          "output_type": "execute_result",
          "data": {
            "text/html": [
              "<table border=\"1\" class=\"dataframe\">\n",
              "    <thead>\n",
              "        <tr>\n",
              "            <th>PLAYER</th> <th>POSITION</th> <th>TEAM</th> <th>'15-'16 SALARY</th>\n",
              "        </tr>\n",
              "    </thead>\n",
              "    <tbody>\n",
              "        <tr>\n",
              "            <td>Paul Millsap    </td> <td>PF      </td> <td>Atlanta Hawks</td> <td>18.6717       </td>\n",
              "        </tr>\n",
              "        <tr>\n",
              "            <td>Al Horford      </td> <td>C       </td> <td>Atlanta Hawks</td> <td>12            </td>\n",
              "        </tr>\n",
              "        <tr>\n",
              "            <td>Tiago Splitter  </td> <td>C       </td> <td>Atlanta Hawks</td> <td>9.75625       </td>\n",
              "        </tr>\n",
              "        <tr>\n",
              "            <td>Jeff Teague     </td> <td>PG      </td> <td>Atlanta Hawks</td> <td>8             </td>\n",
              "        </tr>\n",
              "        <tr>\n",
              "            <td>Kyle Korver     </td> <td>SG      </td> <td>Atlanta Hawks</td> <td>5.74648       </td>\n",
              "        </tr>\n",
              "        <tr>\n",
              "            <td>Thabo Sefolosha </td> <td>SF      </td> <td>Atlanta Hawks</td> <td>4             </td>\n",
              "        </tr>\n",
              "        <tr>\n",
              "            <td>Mike Scott      </td> <td>PF      </td> <td>Atlanta Hawks</td> <td>3.33333       </td>\n",
              "        </tr>\n",
              "        <tr>\n",
              "            <td>Kent Bazemore   </td> <td>SF      </td> <td>Atlanta Hawks</td> <td>2             </td>\n",
              "        </tr>\n",
              "        <tr>\n",
              "            <td>Dennis Schroder </td> <td>PG      </td> <td>Atlanta Hawks</td> <td>1.7634        </td>\n",
              "        </tr>\n",
              "        <tr>\n",
              "            <td>Tim Hardaway Jr.</td> <td>SG      </td> <td>Atlanta Hawks</td> <td>1.30452       </td>\n",
              "        </tr>\n",
              "    </tbody>\n",
              "</table>\n",
              "<p>... (407 rows omitted)</p>"
            ],
            "text/plain": [
              "PLAYER           | POSITION | TEAM          | '15-'16 SALARY\n",
              "Paul Millsap     | PF       | Atlanta Hawks | 18.6717\n",
              "Al Horford       | C        | Atlanta Hawks | 12\n",
              "Tiago Splitter   | C        | Atlanta Hawks | 9.75625\n",
              "Jeff Teague      | PG       | Atlanta Hawks | 8\n",
              "Kyle Korver      | SG       | Atlanta Hawks | 5.74648\n",
              "Thabo Sefolosha  | SF       | Atlanta Hawks | 4\n",
              "Mike Scott       | PF       | Atlanta Hawks | 3.33333\n",
              "Kent Bazemore    | SF       | Atlanta Hawks | 2\n",
              "Dennis Schroder  | PG       | Atlanta Hawks | 1.7634\n",
              "Tim Hardaway Jr. | SG       | Atlanta Hawks | 1.30452\n",
              "... (407 rows omitted)"
            ]
          },
          "metadata": {
            "tags": []
          },
          "execution_count": 4
        }
      ]
    },
    {
      "cell_type": "code",
      "metadata": {
        "id": "IFcQ4C9BuXYd",
        "colab": {
          "base_uri": "https://localhost:8080/"
        },
        "outputId": "1fae339d-b404-4ad9-c589-a22c6bcf7fc3"
      },
      "source": [
        "#O método num_columns fornece o número de colunas da tabela e num_rows fornece o número de linhas.\n",
        "nba_salaries.num_columns"
      ],
      "execution_count": null,
      "outputs": [
        {
          "output_type": "execute_result",
          "data": {
            "text/plain": [
              "4"
            ]
          },
          "metadata": {
            "tags": []
          },
          "execution_count": 5
        }
      ]
    },
    {
      "cell_type": "code",
      "metadata": {
        "id": "efvcHzE9u32a",
        "colab": {
          "base_uri": "https://localhost:8080/"
        },
        "outputId": "14d5f6d0-c19e-4aca-c842-a3529f5b7449"
      },
      "source": [
        "nba_salaries.num_rows"
      ],
      "execution_count": null,
      "outputs": [
        {
          "output_type": "execute_result",
          "data": {
            "text/plain": [
              "417"
            ]
          },
          "metadata": {
            "tags": []
          },
          "execution_count": 6
        }
      ]
    },
    {
      "cell_type": "code",
      "metadata": {
        "id": "cgqGWEvDvAu-",
        "colab": {
          "base_uri": "https://localhost:8080/"
        },
        "outputId": "1e405ca7-6cfc-46b8-f033-9aaa55c9b98b"
      },
      "source": [
        "#O método labels pode ser usado para listar os rótulos de todas as colunas\n",
        "nba_salaries.labels"
      ],
      "execution_count": null,
      "outputs": [
        {
          "output_type": "execute_result",
          "data": {
            "text/plain": [
              "('PLAYER', 'POSITION', 'TEAM', \"'15-'16 SALARY\")"
            ]
          },
          "metadata": {
            "tags": []
          },
          "execution_count": 7
        }
      ]
    },
    {
      "cell_type": "code",
      "metadata": {
        "id": "GQo36JsSvInN",
        "colab": {
          "base_uri": "https://localhost:8080/",
          "height": 388
        },
        "outputId": "5d13f3ff-412d-4d16-ff10-26c5302007e1"
      },
      "source": [
        "#Podemos alterar os rótulos de coluna usando o método relabeled. Isso cria uma tabela e deixa nba_salaries inalterado.\n",
        "nba_salaries.relabeled(\"PLAYER\", 'JOGADOR')"
      ],
      "execution_count": null,
      "outputs": [
        {
          "output_type": "execute_result",
          "data": {
            "text/html": [
              "<table border=\"1\" class=\"dataframe\">\n",
              "    <thead>\n",
              "        <tr>\n",
              "            <th>JOGADOR</th> <th>POSITION</th> <th>TEAM</th> <th>'15-'16 SALARY</th>\n",
              "        </tr>\n",
              "    </thead>\n",
              "    <tbody>\n",
              "        <tr>\n",
              "            <td>Paul Millsap    </td> <td>PF      </td> <td>Atlanta Hawks</td> <td>18.6717       </td>\n",
              "        </tr>\n",
              "        <tr>\n",
              "            <td>Al Horford      </td> <td>C       </td> <td>Atlanta Hawks</td> <td>12            </td>\n",
              "        </tr>\n",
              "        <tr>\n",
              "            <td>Tiago Splitter  </td> <td>C       </td> <td>Atlanta Hawks</td> <td>9.75625       </td>\n",
              "        </tr>\n",
              "        <tr>\n",
              "            <td>Jeff Teague     </td> <td>PG      </td> <td>Atlanta Hawks</td> <td>8             </td>\n",
              "        </tr>\n",
              "        <tr>\n",
              "            <td>Kyle Korver     </td> <td>SG      </td> <td>Atlanta Hawks</td> <td>5.74648       </td>\n",
              "        </tr>\n",
              "        <tr>\n",
              "            <td>Thabo Sefolosha </td> <td>SF      </td> <td>Atlanta Hawks</td> <td>4             </td>\n",
              "        </tr>\n",
              "        <tr>\n",
              "            <td>Mike Scott      </td> <td>PF      </td> <td>Atlanta Hawks</td> <td>3.33333       </td>\n",
              "        </tr>\n",
              "        <tr>\n",
              "            <td>Kent Bazemore   </td> <td>SF      </td> <td>Atlanta Hawks</td> <td>2             </td>\n",
              "        </tr>\n",
              "        <tr>\n",
              "            <td>Dennis Schroder </td> <td>PG      </td> <td>Atlanta Hawks</td> <td>1.7634        </td>\n",
              "        </tr>\n",
              "        <tr>\n",
              "            <td>Tim Hardaway Jr.</td> <td>SG      </td> <td>Atlanta Hawks</td> <td>1.30452       </td>\n",
              "        </tr>\n",
              "    </tbody>\n",
              "</table>\n",
              "<p>... (407 rows omitted)</p>"
            ],
            "text/plain": [
              "JOGADOR          | POSITION | TEAM          | '15-'16 SALARY\n",
              "Paul Millsap     | PF       | Atlanta Hawks | 18.6717\n",
              "Al Horford       | C        | Atlanta Hawks | 12\n",
              "Tiago Splitter   | C        | Atlanta Hawks | 9.75625\n",
              "Jeff Teague      | PG       | Atlanta Hawks | 8\n",
              "Kyle Korver      | SG       | Atlanta Hawks | 5.74648\n",
              "Thabo Sefolosha  | SF       | Atlanta Hawks | 4\n",
              "Mike Scott       | PF       | Atlanta Hawks | 3.33333\n",
              "Kent Bazemore    | SF       | Atlanta Hawks | 2\n",
              "Dennis Schroder  | PG       | Atlanta Hawks | 1.7634\n",
              "Tim Hardaway Jr. | SG       | Atlanta Hawks | 1.30452\n",
              "... (407 rows omitted)"
            ]
          },
          "metadata": {
            "tags": []
          },
          "execution_count": 8
        }
      ]
    },
    {
      "cell_type": "code",
      "metadata": {
        "id": "hRRrFZE6wVB3",
        "colab": {
          "base_uri": "https://localhost:8080/",
          "height": 388
        },
        "outputId": "4497c481-396c-47f0-f1b1-0f106b3b9bb6"
      },
      "source": [
        "nba_salaries"
      ],
      "execution_count": null,
      "outputs": [
        {
          "output_type": "execute_result",
          "data": {
            "text/html": [
              "<table border=\"1\" class=\"dataframe\">\n",
              "    <thead>\n",
              "        <tr>\n",
              "            <th>PLAYER</th> <th>POSITION</th> <th>TEAM</th> <th>'15-'16 SALARY</th>\n",
              "        </tr>\n",
              "    </thead>\n",
              "    <tbody>\n",
              "        <tr>\n",
              "            <td>Paul Millsap    </td> <td>PF      </td> <td>Atlanta Hawks</td> <td>18.6717       </td>\n",
              "        </tr>\n",
              "        <tr>\n",
              "            <td>Al Horford      </td> <td>C       </td> <td>Atlanta Hawks</td> <td>12            </td>\n",
              "        </tr>\n",
              "        <tr>\n",
              "            <td>Tiago Splitter  </td> <td>C       </td> <td>Atlanta Hawks</td> <td>9.75625       </td>\n",
              "        </tr>\n",
              "        <tr>\n",
              "            <td>Jeff Teague     </td> <td>PG      </td> <td>Atlanta Hawks</td> <td>8             </td>\n",
              "        </tr>\n",
              "        <tr>\n",
              "            <td>Kyle Korver     </td> <td>SG      </td> <td>Atlanta Hawks</td> <td>5.74648       </td>\n",
              "        </tr>\n",
              "        <tr>\n",
              "            <td>Thabo Sefolosha </td> <td>SF      </td> <td>Atlanta Hawks</td> <td>4             </td>\n",
              "        </tr>\n",
              "        <tr>\n",
              "            <td>Mike Scott      </td> <td>PF      </td> <td>Atlanta Hawks</td> <td>3.33333       </td>\n",
              "        </tr>\n",
              "        <tr>\n",
              "            <td>Kent Bazemore   </td> <td>SF      </td> <td>Atlanta Hawks</td> <td>2             </td>\n",
              "        </tr>\n",
              "        <tr>\n",
              "            <td>Dennis Schroder </td> <td>PG      </td> <td>Atlanta Hawks</td> <td>1.7634        </td>\n",
              "        </tr>\n",
              "        <tr>\n",
              "            <td>Tim Hardaway Jr.</td> <td>SG      </td> <td>Atlanta Hawks</td> <td>1.30452       </td>\n",
              "        </tr>\n",
              "    </tbody>\n",
              "</table>\n",
              "<p>... (407 rows omitted)</p>"
            ],
            "text/plain": [
              "PLAYER           | POSITION | TEAM          | '15-'16 SALARY\n",
              "Paul Millsap     | PF       | Atlanta Hawks | 18.6717\n",
              "Al Horford       | C        | Atlanta Hawks | 12\n",
              "Tiago Splitter   | C        | Atlanta Hawks | 9.75625\n",
              "Jeff Teague      | PG       | Atlanta Hawks | 8\n",
              "Kyle Korver      | SG       | Atlanta Hawks | 5.74648\n",
              "Thabo Sefolosha  | SF       | Atlanta Hawks | 4\n",
              "Mike Scott       | PF       | Atlanta Hawks | 3.33333\n",
              "Kent Bazemore    | SF       | Atlanta Hawks | 2\n",
              "Dennis Schroder  | PG       | Atlanta Hawks | 1.7634\n",
              "Tim Hardaway Jr. | SG       | Atlanta Hawks | 1.30452\n",
              "... (407 rows omitted)"
            ]
          },
          "metadata": {
            "tags": []
          },
          "execution_count": 9
        }
      ]
    },
    {
      "cell_type": "code",
      "metadata": {
        "id": "K9EmqRv_vj7N",
        "colab": {
          "base_uri": "https://localhost:8080/"
        },
        "outputId": "bbaf408b-fd40-4158-a0f9-db50c5078967"
      },
      "source": [
        "nba_salaries.column('PLAYER')"
      ],
      "execution_count": null,
      "outputs": [
        {
          "output_type": "execute_result",
          "data": {
            "text/plain": [
              "array(['Paul Millsap', 'Al Horford', 'Tiago Splitter', 'Jeff Teague',\n",
              "       'Kyle Korver', 'Thabo Sefolosha', 'Mike Scott', 'Kent Bazemore',\n",
              "       'Dennis Schroder', 'Tim Hardaway Jr.', 'Walter Tavares',\n",
              "       'Jason Richardson', 'Lamar Patterson', 'Terran Petteway',\n",
              "       'Avery Bradley', 'Isaiah Thomas', 'Jae Crowder', 'Jonas Jerebko',\n",
              "       'Marcus Smart', 'Evan Turner', 'Tyler Zeller', 'Jared Sullinger',\n",
              "       'Kelly Olynyk', 'Perry Jones', 'Terry Rozier', 'James Young',\n",
              "       'Zoran Dragic', 'Jordan Mickey', 'R.J. Hunter', 'Joe Johnson',\n",
              "       'Thaddeus Young', 'Jarrett Jack', 'Bojan Bogdanovic',\n",
              "       'Sergey Karasev', 'Wayne Ellington', 'Shane Larkin',\n",
              "       'Andrea Bargnani', 'Rondae Hollis-Jefferson', 'Earl Clark',\n",
              "       'Chris McCullough', 'Thomas Robinson', 'Markel Brown',\n",
              "       'Al Jefferson', 'Nicolas Batum', 'Kemba Walker', 'Marvin Williams',\n",
              "       'Michael Kidd-Gilchrist', 'Spencer Hawes', 'Courtney Lee',\n",
              "       'Cody Zeller', 'Jeremy Lamb', 'Brian Roberts',\n",
              "       'Frank Kaminsky III', 'Jeremy Lin', 'P.J. Hairston',\n",
              "       'Damien Wilkins', 'Jorge Gutierrez', 'Tyler Hansbrough',\n",
              "       'Troy Daniels', 'Aaron Harrison', 'Derrick Rose', 'Jimmy Butler',\n",
              "       'Joakim Noah', 'Pau Gasol', 'Nikola Mirotic', 'Mike Dunleavy',\n",
              "       'Kirk Hinrich', 'Doug McDermott', 'Aaron Brooks', 'Tony Snell',\n",
              "       'Bobby Portis', \"E'Twaun Moore\", 'LeBron James', 'Kevin Love',\n",
              "       'Kyrie Irving', 'Tristan Thompson', 'Brendan Haywood',\n",
              "       'Iman Shumpert', 'Timofey Mozgov', 'Mo Williams', 'Sasha Kaun',\n",
              "       'Matthew Dellavedova', 'David Lee', 'Chandler Parsons',\n",
              "       'Dirk Nowitzki', 'Deron Williams', 'Zaza Pachulia', 'J.J. Barea',\n",
              "       'Devin Harris', 'Raymond Felton', 'Justin Anderson',\n",
              "       'JaVale McGee', 'John Jenkins', 'Danilo Gallinari',\n",
              "       'Kenneth Faried', 'Wilson Chandler', 'JJ Hickson', 'Jameer Nelson',\n",
              "       'Will Barton', 'Emmanuel Mudiay', 'Darrell Arthur', 'Jusuf Nurkic',\n",
              "       'Joffrey Lauvergne', 'Gary Harris', 'Nikola Jokic',\n",
              "       'Kostas Papanikolaou', 'Sean Kilpatrick', 'Reggie Jackson',\n",
              "       'Aron Baynes', 'Jodie Meeks', 'Andre Drummond',\n",
              "       'Kentavious Caldwell-Pope', 'Stanley Johnson', 'Joel Anthony',\n",
              "       'Danny Granger', 'Reggie Bullock', 'Darrun Hilliard',\n",
              "       'Klay Thompson', 'Draymond Green', 'Andrew Bogut',\n",
              "       'Andre Iguodala', 'Stephen Curry', 'Jason Thompson',\n",
              "       'Shaun Livingston', 'Harrison Barnes', 'Marreese Speights',\n",
              "       'Leandro Barbosa', 'Festus Ezeli', 'Brandon Rush', 'Kevon Looney',\n",
              "       'Anderson Varejao', 'Dwight Howard', 'James Harden', 'Ty Lawson',\n",
              "       'Corey Brewer', 'Trevor Ariza', 'Patrick Beverley',\n",
              "       'K.J. McDaniels', 'Terrence Jones', 'Donatas Motiejunas',\n",
              "       'Sam Dekker', 'Clint Capela', 'Montrezl Harrell', 'Paul George',\n",
              "       'Monta Ellis', 'Rodney Stuckey', 'Chase Budinger', 'C.J. Miles',\n",
              "       'Lavoy Allen', 'Jordan Hill', 'Ian Mahinmi', 'Myles Turner',\n",
              "       'Solomon Hill', 'Glenn Robinson III', 'Rakeem Christmas',\n",
              "       'Joe Young', 'Chris Paul', 'Blake Griffin', 'J.J. Redick',\n",
              "       'Jamal Crawford', 'Paul Pierce', 'Austin Rivers', 'C.J. Wilcox',\n",
              "       'Cole Aldrich', 'Wesley Johnson', 'Jordan Hamilton',\n",
              "       'Lester Hudson', 'Pablo Prigioni', 'Jeff Ayres', 'Kobe Bryant',\n",
              "       'Roy Hibbert', 'Louis Williams', 'Nick Young', \"D'Angelo Russell\",\n",
              "       'Julius Randle', 'Brandon Bass', 'Ryan Kelly', 'Larry Nance Jr.',\n",
              "       'Robert Sacre', 'Anthony Brown', 'Marc Gasol', 'Zach Randolph',\n",
              "       'Mike Conley', 'Jeff Green', 'Lance Stephenson', 'Brandan Wright',\n",
              "       'Tony Allen', 'Chris Andersen', 'Mario Chalmers', 'Vince Carter',\n",
              "       'Matt Barnes', 'Beno Udrih', 'Jordan Adams', 'Jarell Martin',\n",
              "       'JaMychal Green', 'Russ Smith', 'James Ennis', 'Jarnell Stokes',\n",
              "       'Jarrid Famous', 'Ryan Hollins', 'Elliot Williams', 'Chris Bosh',\n",
              "       'Dwyane Wade', 'Goran Dragic', 'Luol Deng', 'Josh McRoberts',\n",
              "       'Udonis Haslem', 'Justise Winslow', 'Henry Walker',\n",
              "       'Tyler Johnson', 'Greg Whittington', 'Josh Richardson',\n",
              "       'Corey Hawkins', 'Khris Middleton', 'O.J. Mayo', 'Greivis Vasquez',\n",
              "       'Jabari Parker', 'Jerryd Bayless', 'John Henson',\n",
              "       'Michael Carter-Williams', 'Miles Plumlee',\n",
              "       'Giannis Antetokounmpo', 'Rashad Vaughn', 'Tyler Ennis',\n",
              "       'Chris Copeland', 'Damien Inglis', 'Ricky Rubio', 'Nikola Pekovic',\n",
              "       'Kevin Garnett', 'Kevin Martin', 'Andrew Wiggins',\n",
              "       'Karl-Anthony Towns', 'Nemanja Bjelica', 'Zach LaVine',\n",
              "       'Shabazz Muhammad', 'Adreian Payne', 'Gorgui Dieng', 'Tyus Jones',\n",
              "       'Damjan Rudez', 'Eric Gordon', 'Tyreke Evans', 'Jrue Holiday',\n",
              "       'Omer Asik', 'Ryan Anderson', 'Anthony Davis', 'Alexis Ajinca',\n",
              "       'Quincy Pondexter', 'Norris Cole', 'Dante Cunningham',\n",
              "       'Alonzo Gee', 'Toney Douglas', 'Luke Babbitt', 'Kendrick Perkins',\n",
              "       'Bo McCalebb', 'Bryce Dejean-Jones', 'Carmelo Anthony',\n",
              "       'Robin Lopez', 'Arron Afflalo', 'Jose Calderon',\n",
              "       'Kristaps Porzingis', 'Derrick Williams', \"Kyle O'Quinn\",\n",
              "       'Lance Thomas', 'Lou Amundson', 'Jerian Grant', 'Jimmer Fredette',\n",
              "       'Langston Galloway', 'Thanasis Antetokounmpo', 'Kevin Durant',\n",
              "       'Russell Westbrook', 'Enes Kanter', 'Serge Ibaka', 'Dion Waiters',\n",
              "       'Kyle Singler', 'Nick Collison', 'Anthony Morrow', 'Randy Foye',\n",
              "       'D.J. Augustin', 'Steven Adams', 'Cameron Payne', 'Mitch McGary',\n",
              "       'Andre Roberson', 'Josh Huestis', 'Steve Novak', 'Tobias Harris',\n",
              "       'Nikola Vucevic', 'Brandon Jennings', 'Channing Frye',\n",
              "       'Ersan Ilyasova', 'Victor Oladipo', 'Jason Smith', 'Aaron Gordon',\n",
              "       'Mario Hezonja', 'Elfrid Payton', 'Andrew Nicholson',\n",
              "       'Evan Fournier', 'Shabazz Napier', 'Keith Appling',\n",
              "       'Gerald Wallace', 'Carl Landry', 'Joel Embiid', 'Jahlil Okafor',\n",
              "       'Nerlens Noel', 'Nik Stauskas', 'Furkan Aldemir', 'Tony Wroten',\n",
              "       'Kendall Marshall', 'Richaun Holmes', 'Robert Covington',\n",
              "       'Jerami Grant', 'JaKarr Sampson', 'Eric Bledsoe', 'Tyson Chandler',\n",
              "       'Mirza Teletovic', 'P.J. Tucker', 'Alex Len', 'Devin Booker',\n",
              "       'T.J. Warren', 'Archie Goodwin', 'Jon Leuer', 'Jerel McNeal',\n",
              "       'Terrico White', 'Bryce Cotton', 'Lorenzo Brown',\n",
              "       'Orlando Johnson', 'Phil Pressey', 'Jordan McRae',\n",
              "       'Cory Jefferson', 'Al-Farouq Aminu', 'Ed Davis',\n",
              "       'Gerald Henderson', 'Chris Kaman', 'Damian Lillard',\n",
              "       'Meyers Leonard', 'Maurice Harkless', 'Noah Vonleh',\n",
              "       'C.J. McCollum', 'Mason Plumlee', 'Allen Crabbe',\n",
              "       'Pat Connaughton', 'Luis Montero', 'Cliff Alexander',\n",
              "       'DeMarcus Cousins', 'Rudy Gay', 'Rajon Rondo', 'Kosta Koufos',\n",
              "       'Marco Belinelli', 'Darren Collison', 'Willie Cauley-Stein',\n",
              "       'Ben McLemore', 'Omri Casspi', 'Caron Butler', 'James Anderson',\n",
              "       'LaMarcus Aldridge', 'Kawhi Leonard', 'Tony Parker', 'Danny Green',\n",
              "       'Boris Diaw', 'Tim Duncan', 'Patty Mills', 'Manu Ginobili',\n",
              "       'David West', 'Boban Marjanovic', 'Reggie Williams',\n",
              "       'Kyle Anderson', 'Ray McCallum', 'DeMarre Carroll', 'Kyle Lowry',\n",
              "       'DeMar DeRozan', 'Cory Joseph', 'Patrick Patterson',\n",
              "       'Jonas Valanciunas', 'Terrence Ross', 'Luis Scola',\n",
              "       'Bismack Biyombo', 'Luke Ridnour', 'James Johnson',\n",
              "       'Lucas Nogueira', 'Bruno Caboclo', 'Delon Wright', 'Norman Powell',\n",
              "       'Shannon Scott', 'Ronald Roberts Jr.', 'Gordon Hayward',\n",
              "       'Alec Burks', 'Trevor Booker', 'Dante Exum', 'Tibor Pleiss',\n",
              "       'Trey Burke', 'Shelvin Mack', 'Trey Lyles', 'Joe Ingles',\n",
              "       'Rodney Hood', 'Rudy Gobert', 'Chris Johnson', 'Grant Jerrett',\n",
              "       'Jeff Withey', 'Raul Neto', 'Treveon Graham', 'Erick Green',\n",
              "       'John Wall', 'Nene Hilario', 'Marcin Gortat', 'Markieff Morris',\n",
              "       'Bradley Beal', 'Martell Webster', 'Otto Porter Jr.',\n",
              "       'Kris Humphries', 'Jared Dudley', 'Alan Anderson', 'Drew Gooden',\n",
              "       'Ramon Sessions', 'Gary Neal', 'DeJuan Blair', 'Kelly Oubre Jr.',\n",
              "       'Garrett Temple', 'Jarell Eddie'], dtype='<U24')"
            ]
          },
          "metadata": {
            "tags": []
          },
          "execution_count": 10
        }
      ]
    },
    {
      "cell_type": "code",
      "metadata": {
        "id": "jJMF_5kgwl1v",
        "colab": {
          "base_uri": "https://localhost:8080/",
          "height": 35
        },
        "outputId": "473b7f94-19e8-456e-bb78-38d8151d8ab7"
      },
      "source": [
        "nba_salaries.column('PLAYER').item(0)"
      ],
      "execution_count": null,
      "outputs": [
        {
          "output_type": "execute_result",
          "data": {
            "application/vnd.google.colaboratory.intrinsic+json": {
              "type": "string"
            },
            "text/plain": [
              "'Paul Millsap'"
            ]
          },
          "metadata": {
            "tags": []
          },
          "execution_count": 11
        }
      ]
    },
    {
      "cell_type": "code",
      "metadata": {
        "id": "tmspa2nHx7qd",
        "colab": {
          "base_uri": "https://localhost:8080/",
          "height": 388
        },
        "outputId": "24525a95-1585-49b2-b15d-a360da43f69a"
      },
      "source": [
        "nba = nba_salaries.relabeled(\"'15-'16 SALARY\", 'Salary')\n",
        "nba.sort('Salary')"
      ],
      "execution_count": null,
      "outputs": [
        {
          "output_type": "execute_result",
          "data": {
            "text/html": [
              "<table border=\"1\" class=\"dataframe\">\n",
              "    <thead>\n",
              "        <tr>\n",
              "            <th>PLAYER</th> <th>POSITION</th> <th>TEAM</th> <th>Salary</th>\n",
              "        </tr>\n",
              "    </thead>\n",
              "    <tbody>\n",
              "        <tr>\n",
              "            <td>Thanasis Antetokounmpo</td> <td>SF      </td> <td>New York Knicks     </td> <td>0.030888</td>\n",
              "        </tr>\n",
              "        <tr>\n",
              "            <td>Jordan McRae          </td> <td>SG      </td> <td>Phoenix Suns        </td> <td>0.049709</td>\n",
              "        </tr>\n",
              "        <tr>\n",
              "            <td>Cory Jefferson        </td> <td>PF      </td> <td>Phoenix Suns        </td> <td>0.049709</td>\n",
              "        </tr>\n",
              "        <tr>\n",
              "            <td>Elliot Williams       </td> <td>SG      </td> <td>Memphis Grizzlies   </td> <td>0.055722</td>\n",
              "        </tr>\n",
              "        <tr>\n",
              "            <td>Orlando Johnson       </td> <td>SG      </td> <td>Phoenix Suns        </td> <td>0.055722</td>\n",
              "        </tr>\n",
              "        <tr>\n",
              "            <td>Phil Pressey          </td> <td>PG      </td> <td>Phoenix Suns        </td> <td>0.055722</td>\n",
              "        </tr>\n",
              "        <tr>\n",
              "            <td>Keith Appling         </td> <td>PG      </td> <td>Orlando Magic       </td> <td>0.061776</td>\n",
              "        </tr>\n",
              "        <tr>\n",
              "            <td>Sean Kilpatrick       </td> <td>SG      </td> <td>Denver Nuggets      </td> <td>0.099418</td>\n",
              "        </tr>\n",
              "        <tr>\n",
              "            <td>Erick Green           </td> <td>PG      </td> <td>Utah Jazz           </td> <td>0.099418</td>\n",
              "        </tr>\n",
              "        <tr>\n",
              "            <td>Jeff Ayres            </td> <td>PF      </td> <td>Los Angeles Clippers</td> <td>0.111444</td>\n",
              "        </tr>\n",
              "    </tbody>\n",
              "</table>\n",
              "<p>... (407 rows omitted)</p>"
            ],
            "text/plain": [
              "PLAYER                 | POSITION | TEAM                 | Salary\n",
              "Thanasis Antetokounmpo | SF       | New York Knicks      | 0.030888\n",
              "Jordan McRae           | SG       | Phoenix Suns         | 0.049709\n",
              "Cory Jefferson         | PF       | Phoenix Suns         | 0.049709\n",
              "Elliot Williams        | SG       | Memphis Grizzlies    | 0.055722\n",
              "Orlando Johnson        | SG       | Phoenix Suns         | 0.055722\n",
              "Phil Pressey           | PG       | Phoenix Suns         | 0.055722\n",
              "Keith Appling          | PG       | Orlando Magic        | 0.061776\n",
              "Sean Kilpatrick        | SG       | Denver Nuggets       | 0.099418\n",
              "Erick Green            | PG       | Utah Jazz            | 0.099418\n",
              "Jeff Ayres             | PF       | Los Angeles Clippers | 0.111444\n",
              "... (407 rows omitted)"
            ]
          },
          "metadata": {
            "tags": []
          },
          "execution_count": 12
        }
      ]
    },
    {
      "cell_type": "code",
      "metadata": {
        "id": "nna_r-nWy95r",
        "colab": {
          "base_uri": "https://localhost:8080/",
          "height": 388
        },
        "outputId": "f30bde30-0432-48e4-aa2e-8fedaa2bc50c"
      },
      "source": [
        "#Para ordenar as linhas da tabela em ordem decrescente de salário, devemos usar sort com a opção descending=True.\n",
        "\n",
        "nba.sort('Salary', descending=True)"
      ],
      "execution_count": null,
      "outputs": [
        {
          "output_type": "execute_result",
          "data": {
            "text/html": [
              "<table border=\"1\" class=\"dataframe\">\n",
              "    <thead>\n",
              "        <tr>\n",
              "            <th>PLAYER</th> <th>POSITION</th> <th>TEAM</th> <th>Salary</th>\n",
              "        </tr>\n",
              "    </thead>\n",
              "    <tbody>\n",
              "        <tr>\n",
              "            <td>Kobe Bryant    </td> <td>SF      </td> <td>Los Angeles Lakers   </td> <td>25     </td>\n",
              "        </tr>\n",
              "        <tr>\n",
              "            <td>Joe Johnson    </td> <td>SF      </td> <td>Brooklyn Nets        </td> <td>24.8949</td>\n",
              "        </tr>\n",
              "        <tr>\n",
              "            <td>LeBron James   </td> <td>SF      </td> <td>Cleveland Cavaliers  </td> <td>22.9705</td>\n",
              "        </tr>\n",
              "        <tr>\n",
              "            <td>Carmelo Anthony</td> <td>SF      </td> <td>New York Knicks      </td> <td>22.875 </td>\n",
              "        </tr>\n",
              "        <tr>\n",
              "            <td>Dwight Howard  </td> <td>C       </td> <td>Houston Rockets      </td> <td>22.3594</td>\n",
              "        </tr>\n",
              "        <tr>\n",
              "            <td>Chris Bosh     </td> <td>PF      </td> <td>Miami Heat           </td> <td>22.1927</td>\n",
              "        </tr>\n",
              "        <tr>\n",
              "            <td>Chris Paul     </td> <td>PG      </td> <td>Los Angeles Clippers </td> <td>21.4687</td>\n",
              "        </tr>\n",
              "        <tr>\n",
              "            <td>Kevin Durant   </td> <td>SF      </td> <td>Oklahoma City Thunder</td> <td>20.1586</td>\n",
              "        </tr>\n",
              "        <tr>\n",
              "            <td>Derrick Rose   </td> <td>PG      </td> <td>Chicago Bulls        </td> <td>20.0931</td>\n",
              "        </tr>\n",
              "        <tr>\n",
              "            <td>Dwyane Wade    </td> <td>SG      </td> <td>Miami Heat           </td> <td>20     </td>\n",
              "        </tr>\n",
              "    </tbody>\n",
              "</table>\n",
              "<p>... (407 rows omitted)</p>"
            ],
            "text/plain": [
              "PLAYER          | POSITION | TEAM                  | Salary\n",
              "Kobe Bryant     | SF       | Los Angeles Lakers    | 25\n",
              "Joe Johnson     | SF       | Brooklyn Nets         | 24.8949\n",
              "LeBron James    | SF       | Cleveland Cavaliers   | 22.9705\n",
              "Carmelo Anthony | SF       | New York Knicks       | 22.875\n",
              "Dwight Howard   | C        | Houston Rockets       | 22.3594\n",
              "Chris Bosh      | PF       | Miami Heat            | 22.1927\n",
              "Chris Paul      | PG       | Los Angeles Clippers  | 21.4687\n",
              "Kevin Durant    | SF       | Oklahoma City Thunder | 20.1586\n",
              "Derrick Rose    | PG       | Chicago Bulls         | 20.0931\n",
              "Dwyane Wade     | SG       | Miami Heat            | 20\n",
              "... (407 rows omitted)"
            ]
          },
          "metadata": {
            "tags": []
          },
          "execution_count": 13
        }
      ]
    },
    {
      "cell_type": "code",
      "metadata": {
        "id": "hKGlqUgbzmWH",
        "colab": {
          "base_uri": "https://localhost:8080/",
          "height": 80
        },
        "outputId": "8e4042bd-af91-4654-f796-a53a70eb0e59"
      },
      "source": [
        "nba.take(0)"
      ],
      "execution_count": null,
      "outputs": [
        {
          "output_type": "execute_result",
          "data": {
            "text/html": [
              "<table border=\"1\" class=\"dataframe\">\n",
              "    <thead>\n",
              "        <tr>\n",
              "            <th>PLAYER</th> <th>POSITION</th> <th>TEAM</th> <th>Salary</th>\n",
              "        </tr>\n",
              "    </thead>\n",
              "    <tbody>\n",
              "        <tr>\n",
              "            <td>Paul Millsap</td> <td>PF      </td> <td>Atlanta Hawks</td> <td>18.6717</td>\n",
              "        </tr>\n",
              "    </tbody>\n",
              "</table>"
            ],
            "text/plain": [
              "PLAYER       | POSITION | TEAM          | Salary\n",
              "Paul Millsap | PF       | Atlanta Hawks | 18.6717"
            ]
          },
          "metadata": {
            "tags": []
          },
          "execution_count": 14
        }
      ]
    },
    {
      "cell_type": "code",
      "metadata": {
        "id": "PqrVglXV59TZ",
        "colab": {
          "base_uri": "https://localhost:8080/",
          "height": 142
        },
        "outputId": "be26f4d2-1ec7-4e20-9295-acc2455f1326"
      },
      "source": [
        "#O método take usa um conjunto específico de linhas.\n",
        "nba.take(np.arange(3,6))"
      ],
      "execution_count": null,
      "outputs": [
        {
          "output_type": "execute_result",
          "data": {
            "text/html": [
              "<table border=\"1\" class=\"dataframe\">\n",
              "    <thead>\n",
              "        <tr>\n",
              "            <th>PLAYER</th> <th>POSITION</th> <th>TEAM</th> <th>Salary</th>\n",
              "        </tr>\n",
              "    </thead>\n",
              "    <tbody>\n",
              "        <tr>\n",
              "            <td>Jeff Teague    </td> <td>PG      </td> <td>Atlanta Hawks</td> <td>8      </td>\n",
              "        </tr>\n",
              "        <tr>\n",
              "            <td>Kyle Korver    </td> <td>SG      </td> <td>Atlanta Hawks</td> <td>5.74648</td>\n",
              "        </tr>\n",
              "        <tr>\n",
              "            <td>Thabo Sefolosha</td> <td>SF      </td> <td>Atlanta Hawks</td> <td>4      </td>\n",
              "        </tr>\n",
              "    </tbody>\n",
              "</table>"
            ],
            "text/plain": [
              "PLAYER          | POSITION | TEAM          | Salary\n",
              "Jeff Teague     | PG       | Atlanta Hawks | 8\n",
              "Kyle Korver     | SG       | Atlanta Hawks | 5.74648\n",
              "Thabo Sefolosha | SF       | Atlanta Hawks | 4"
            ]
          },
          "metadata": {
            "tags": []
          },
          "execution_count": 15
        }
      ]
    },
    {
      "cell_type": "code",
      "metadata": {
        "id": "gDjvoUbC6D3s",
        "colab": {
          "base_uri": "https://localhost:8080/",
          "height": 204
        },
        "outputId": "b7cd3b5e-2c7c-40ba-ba3a-dcbd73b1af72"
      },
      "source": [
        "#Se quisermos uma tabela com os cinco jogadores mais bem pagos, podemos primeiro classificar a lista por salário e, em seguida, take as primeiras cinco linhas:\n",
        "\n",
        "nba.sort('Salary', descending=True).take(np.arange(5))"
      ],
      "execution_count": null,
      "outputs": [
        {
          "output_type": "execute_result",
          "data": {
            "text/html": [
              "<table border=\"1\" class=\"dataframe\">\n",
              "    <thead>\n",
              "        <tr>\n",
              "            <th>PLAYER</th> <th>POSITION</th> <th>TEAM</th> <th>Salary</th>\n",
              "        </tr>\n",
              "    </thead>\n",
              "    <tbody>\n",
              "        <tr>\n",
              "            <td>Kobe Bryant    </td> <td>SF      </td> <td>Los Angeles Lakers </td> <td>25     </td>\n",
              "        </tr>\n",
              "        <tr>\n",
              "            <td>Joe Johnson    </td> <td>SF      </td> <td>Brooklyn Nets      </td> <td>24.8949</td>\n",
              "        </tr>\n",
              "        <tr>\n",
              "            <td>LeBron James   </td> <td>SF      </td> <td>Cleveland Cavaliers</td> <td>22.9705</td>\n",
              "        </tr>\n",
              "        <tr>\n",
              "            <td>Carmelo Anthony</td> <td>SF      </td> <td>New York Knicks    </td> <td>22.875 </td>\n",
              "        </tr>\n",
              "        <tr>\n",
              "            <td>Dwight Howard  </td> <td>C       </td> <td>Houston Rockets    </td> <td>22.3594</td>\n",
              "        </tr>\n",
              "    </tbody>\n",
              "</table>"
            ],
            "text/plain": [
              "PLAYER          | POSITION | TEAM                | Salary\n",
              "Kobe Bryant     | SF       | Los Angeles Lakers  | 25\n",
              "Joe Johnson     | SF       | Brooklyn Nets       | 24.8949\n",
              "LeBron James    | SF       | Cleveland Cavaliers | 22.9705\n",
              "Carmelo Anthony | SF       | New York Knicks     | 22.875\n",
              "Dwight Howard   | C        | Houston Rockets     | 22.3594"
            ]
          },
          "metadata": {
            "tags": []
          },
          "execution_count": 16
        }
      ]
    },
    {
      "cell_type": "code",
      "metadata": {
        "id": "8Zg6E4El7mTY",
        "colab": {
          "base_uri": "https://localhost:8080/",
          "height": 388
        },
        "outputId": "978eadf1-055d-49ab-de93-c1eb0e1f17c1"
      },
      "source": [
        "#todos aqueles que ganharam mais de US$ 10 milhões\n",
        "\n",
        "nba.where('Salary', are.above(10))"
      ],
      "execution_count": null,
      "outputs": [
        {
          "output_type": "execute_result",
          "data": {
            "text/html": [
              "<table border=\"1\" class=\"dataframe\">\n",
              "    <thead>\n",
              "        <tr>\n",
              "            <th>PLAYER</th> <th>POSITION</th> <th>TEAM</th> <th>Salary</th>\n",
              "        </tr>\n",
              "    </thead>\n",
              "    <tbody>\n",
              "        <tr>\n",
              "            <td>Paul Millsap  </td> <td>PF      </td> <td>Atlanta Hawks    </td> <td>18.6717</td>\n",
              "        </tr>\n",
              "        <tr>\n",
              "            <td>Al Horford    </td> <td>C       </td> <td>Atlanta Hawks    </td> <td>12     </td>\n",
              "        </tr>\n",
              "        <tr>\n",
              "            <td>Joe Johnson   </td> <td>SF      </td> <td>Brooklyn Nets    </td> <td>24.8949</td>\n",
              "        </tr>\n",
              "        <tr>\n",
              "            <td>Thaddeus Young</td> <td>PF      </td> <td>Brooklyn Nets    </td> <td>11.236 </td>\n",
              "        </tr>\n",
              "        <tr>\n",
              "            <td>Al Jefferson  </td> <td>C       </td> <td>Charlotte Hornets</td> <td>13.5   </td>\n",
              "        </tr>\n",
              "        <tr>\n",
              "            <td>Nicolas Batum </td> <td>SG      </td> <td>Charlotte Hornets</td> <td>13.1253</td>\n",
              "        </tr>\n",
              "        <tr>\n",
              "            <td>Kemba Walker  </td> <td>PG      </td> <td>Charlotte Hornets</td> <td>12     </td>\n",
              "        </tr>\n",
              "        <tr>\n",
              "            <td>Derrick Rose  </td> <td>PG      </td> <td>Chicago Bulls    </td> <td>20.0931</td>\n",
              "        </tr>\n",
              "        <tr>\n",
              "            <td>Jimmy Butler  </td> <td>SG      </td> <td>Chicago Bulls    </td> <td>16.4075</td>\n",
              "        </tr>\n",
              "        <tr>\n",
              "            <td>Joakim Noah   </td> <td>C       </td> <td>Chicago Bulls    </td> <td>13.4   </td>\n",
              "        </tr>\n",
              "    </tbody>\n",
              "</table>\n",
              "<p>... (59 rows omitted)</p>"
            ],
            "text/plain": [
              "PLAYER         | POSITION | TEAM              | Salary\n",
              "Paul Millsap   | PF       | Atlanta Hawks     | 18.6717\n",
              "Al Horford     | C        | Atlanta Hawks     | 12\n",
              "Joe Johnson    | SF       | Brooklyn Nets     | 24.8949\n",
              "Thaddeus Young | PF       | Brooklyn Nets     | 11.236\n",
              "Al Jefferson   | C        | Charlotte Hornets | 13.5\n",
              "Nicolas Batum  | SG       | Charlotte Hornets | 13.1253\n",
              "Kemba Walker   | PG       | Charlotte Hornets | 12\n",
              "Derrick Rose   | PG       | Chicago Bulls     | 20.0931\n",
              "Jimmy Butler   | SG       | Chicago Bulls     | 16.4075\n",
              "Joakim Noah    | C        | Chicago Bulls     | 13.4\n",
              "... (59 rows omitted)"
            ]
          },
          "metadata": {
            "tags": []
          },
          "execution_count": 17
        }
      ]
    },
    {
      "cell_type": "code",
      "metadata": {
        "id": "ihDYIoPn8mbm",
        "colab": {
          "base_uri": "https://localhost:8080/",
          "height": 388
        },
        "outputId": "29e66711-ef8c-45d6-8aea-30af4c30a761"
      },
      "source": [
        "nba.where('Salary', are.above(10)).sort('Salary')"
      ],
      "execution_count": null,
      "outputs": [
        {
          "output_type": "execute_result",
          "data": {
            "text/html": [
              "<table border=\"1\" class=\"dataframe\">\n",
              "    <thead>\n",
              "        <tr>\n",
              "            <th>PLAYER</th> <th>POSITION</th> <th>TEAM</th> <th>Salary</th>\n",
              "        </tr>\n",
              "    </thead>\n",
              "    <tbody>\n",
              "        <tr>\n",
              "            <td>DeMar DeRozan  </td> <td>SG      </td> <td>Toronto Raptors     </td> <td>10.05  </td>\n",
              "        </tr>\n",
              "        <tr>\n",
              "            <td>Gerald Wallace </td> <td>SF      </td> <td>Philadelphia 76ers  </td> <td>10.1059</td>\n",
              "        </tr>\n",
              "        <tr>\n",
              "            <td>Luol Deng      </td> <td>SF      </td> <td>Miami Heat          </td> <td>10.1516</td>\n",
              "        </tr>\n",
              "        <tr>\n",
              "            <td>Monta Ellis    </td> <td>SG      </td> <td>Indiana Pacers      </td> <td>10.3   </td>\n",
              "        </tr>\n",
              "        <tr>\n",
              "            <td>Wilson Chandler</td> <td>SF      </td> <td>Denver Nuggets      </td> <td>10.4494</td>\n",
              "        </tr>\n",
              "        <tr>\n",
              "            <td>Brendan Haywood</td> <td>C       </td> <td>Cleveland Cavaliers </td> <td>10.5225</td>\n",
              "        </tr>\n",
              "        <tr>\n",
              "            <td>Jrue Holiday   </td> <td>PG      </td> <td>New Orleans Pelicans</td> <td>10.5955</td>\n",
              "        </tr>\n",
              "        <tr>\n",
              "            <td>Tyreke Evans   </td> <td>SG      </td> <td>New Orleans Pelicans</td> <td>10.7346</td>\n",
              "        </tr>\n",
              "        <tr>\n",
              "            <td>Marcin Gortat  </td> <td>C       </td> <td>Washington Wizards  </td> <td>11.2174</td>\n",
              "        </tr>\n",
              "        <tr>\n",
              "            <td>Thaddeus Young </td> <td>PF      </td> <td>Brooklyn Nets       </td> <td>11.236 </td>\n",
              "        </tr>\n",
              "    </tbody>\n",
              "</table>\n",
              "<p>... (59 rows omitted)</p>"
            ],
            "text/plain": [
              "PLAYER          | POSITION | TEAM                 | Salary\n",
              "DeMar DeRozan   | SG       | Toronto Raptors      | 10.05\n",
              "Gerald Wallace  | SF       | Philadelphia 76ers   | 10.1059\n",
              "Luol Deng       | SF       | Miami Heat           | 10.1516\n",
              "Monta Ellis     | SG       | Indiana Pacers       | 10.3\n",
              "Wilson Chandler | SF       | Denver Nuggets       | 10.4494\n",
              "Brendan Haywood | C        | Cleveland Cavaliers  | 10.5225\n",
              "Jrue Holiday    | PG       | New Orleans Pelicans | 10.5955\n",
              "Tyreke Evans    | SG       | New Orleans Pelicans | 10.7346\n",
              "Marcin Gortat   | C        | Washington Wizards   | 11.2174\n",
              "Thaddeus Young  | PF       | Brooklyn Nets        | 11.236\n",
              "... (59 rows omitted)"
            ]
          },
          "metadata": {
            "tags": []
          },
          "execution_count": 18
        }
      ]
    },
    {
      "cell_type": "code",
      "metadata": {
        "id": "qoVwaKG_9OCI",
        "colab": {
          "base_uri": "https://localhost:8080/",
          "height": 80
        },
        "outputId": "1b2b6f3a-a2e1-44e9-f118-04f64f5934f7"
      },
      "source": [
        "#para saber quanto ganhou determinado jogador\n",
        "\n",
        "nba.where('PLAYER', are.equal_to('Stephen Curry'))"
      ],
      "execution_count": null,
      "outputs": [
        {
          "output_type": "execute_result",
          "data": {
            "text/html": [
              "<table border=\"1\" class=\"dataframe\">\n",
              "    <thead>\n",
              "        <tr>\n",
              "            <th>PLAYER</th> <th>POSITION</th> <th>TEAM</th> <th>Salary</th>\n",
              "        </tr>\n",
              "    </thead>\n",
              "    <tbody>\n",
              "        <tr>\n",
              "            <td>Stephen Curry</td> <td>PG      </td> <td>Golden State Warriors</td> <td>11.3708</td>\n",
              "        </tr>\n",
              "    </tbody>\n",
              "</table>"
            ],
            "text/plain": [
              "PLAYER        | POSITION | TEAM                  | Salary\n",
              "Stephen Curry | PG       | Golden State Warriors | 11.3708"
            ]
          },
          "metadata": {
            "tags": []
          },
          "execution_count": 19
        }
      ]
    },
    {
      "cell_type": "code",
      "metadata": {
        "id": "CRCIV6mlTOxy",
        "colab": {
          "base_uri": "https://localhost:8080/",
          "height": 80
        },
        "outputId": "796a1efa-eeba-4e9a-bf9f-c4921ea76ae9"
      },
      "source": [
        "# equivalent a nba.where('PLAYER', are.equal_to('Stephen Curry'))\n",
        "\n",
        "nba.where('PLAYER', 'Stephen Curry')"
      ],
      "execution_count": null,
      "outputs": [
        {
          "output_type": "execute_result",
          "data": {
            "text/html": [
              "<table border=\"1\" class=\"dataframe\">\n",
              "    <thead>\n",
              "        <tr>\n",
              "            <th>PLAYER</th> <th>POSITION</th> <th>TEAM</th> <th>Salary</th>\n",
              "        </tr>\n",
              "    </thead>\n",
              "    <tbody>\n",
              "        <tr>\n",
              "            <td>Stephen Curry</td> <td>PG      </td> <td>Golden State Warriors</td> <td>11.3708</td>\n",
              "        </tr>\n",
              "    </tbody>\n",
              "</table>"
            ],
            "text/plain": [
              "PLAYER        | POSITION | TEAM                  | Salary\n",
              "Stephen Curry | PG       | Golden State Warriors | 11.3708"
            ]
          },
          "metadata": {
            "tags": []
          },
          "execution_count": 20
        }
      ]
    },
    {
      "cell_type": "code",
      "metadata": {
        "id": "H6gmJvCzTe01"
      },
      "source": [
        "#| Predicate                       | Description                                                 |\n",
        "#|---------------------------------|-------------------------------------------------------------|\n",
        "#| `are.equal_to(Z)`               | Equal to `Z`                                                |\n",
        "#| `are.above(x)`                  | Greater than `x`                                            |\n",
        "#| `are.above_or_equal_to(x)`      | Greater than or equal to `x`                                |\n",
        "#| `are.below(x)`                  | Less than `x`                                               |\n",
        "#| `are.below_or_equal_to(x)`      | Less than or equal to `x`                                   |\n",
        "#| `are.between(x, y)`             | Greater than or equal to `x`, and less than `y`             |\n",
        "#| `are.strictly_between(x, y)`    | Greater than `x` and less than `y`                          |\n",
        "#| `are.between_or_equal_to(x, y)` | Greater than or equal to `x`, and less than or equal to `y` |\n",
        "#| `are.containing(S)`             | Contains the string `S`                                     |\n",
        "#| `are.not_equal_to(Z)`           | Not equal to `Z` |\n",
        "#| `are.not_above(x)`              | Not above `x`    | "
      ],
      "execution_count": null,
      "outputs": []
    },
    {
      "cell_type": "code",
      "metadata": {
        "id": "5EjbA6MiMJHT",
        "colab": {
          "base_uri": "https://localhost:8080/",
          "height": 388
        },
        "outputId": "85069207-317b-4be7-96ff-71a01bae2a85"
      },
      "source": [
        "#Quanto em dinheiro cada equipe paga pelos salários de seus jogadores\n",
        "\n",
        "teams_and_money = nba.select('TEAM', 'Salary')\n",
        "teams_and_money.group('TEAM', sum)"
      ],
      "execution_count": null,
      "outputs": [
        {
          "output_type": "execute_result",
          "data": {
            "text/html": [
              "<table border=\"1\" class=\"dataframe\">\n",
              "    <thead>\n",
              "        <tr>\n",
              "            <th>TEAM</th> <th>Salary sum</th>\n",
              "        </tr>\n",
              "    </thead>\n",
              "    <tbody>\n",
              "        <tr>\n",
              "            <td>Atlanta Hawks        </td> <td>69.5731   </td>\n",
              "        </tr>\n",
              "        <tr>\n",
              "            <td>Boston Celtics       </td> <td>50.2855   </td>\n",
              "        </tr>\n",
              "        <tr>\n",
              "            <td>Brooklyn Nets        </td> <td>57.307    </td>\n",
              "        </tr>\n",
              "        <tr>\n",
              "            <td>Charlotte Hornets    </td> <td>84.1024   </td>\n",
              "        </tr>\n",
              "        <tr>\n",
              "            <td>Chicago Bulls        </td> <td>78.8209   </td>\n",
              "        </tr>\n",
              "        <tr>\n",
              "            <td>Cleveland Cavaliers  </td> <td>102.312   </td>\n",
              "        </tr>\n",
              "        <tr>\n",
              "            <td>Dallas Mavericks     </td> <td>65.7626   </td>\n",
              "        </tr>\n",
              "        <tr>\n",
              "            <td>Denver Nuggets       </td> <td>62.4294   </td>\n",
              "        </tr>\n",
              "        <tr>\n",
              "            <td>Detroit Pistons      </td> <td>42.2118   </td>\n",
              "        </tr>\n",
              "        <tr>\n",
              "            <td>Golden State Warriors</td> <td>94.0851   </td>\n",
              "        </tr>\n",
              "    </tbody>\n",
              "</table>\n",
              "<p>... (20 rows omitted)</p>"
            ],
            "text/plain": [
              "TEAM                  | Salary sum\n",
              "Atlanta Hawks         | 69.5731\n",
              "Boston Celtics        | 50.2855\n",
              "Brooklyn Nets         | 57.307\n",
              "Charlotte Hornets     | 84.1024\n",
              "Chicago Bulls         | 78.8209\n",
              "Cleveland Cavaliers   | 102.312\n",
              "Dallas Mavericks      | 65.7626\n",
              "Denver Nuggets        | 62.4294\n",
              "Detroit Pistons       | 42.2118\n",
              "Golden State Warriors | 94.0851\n",
              "... (20 rows omitted)"
            ]
          },
          "metadata": {
            "tags": []
          },
          "execution_count": 22
        }
      ]
    },
    {
      "cell_type": "code",
      "metadata": {
        "id": "MGNRFYh2NB8N",
        "colab": {
          "base_uri": "https://localhost:8080/",
          "height": 204
        },
        "outputId": "8046fd21-b110-4f13-9966-0485ddda254f"
      },
      "source": [
        "#Quantos jogadores da NBA havia em cada uma das cinco posições\n",
        "\n",
        "nba.group('POSITION')"
      ],
      "execution_count": null,
      "outputs": [
        {
          "output_type": "execute_result",
          "data": {
            "text/html": [
              "<table border=\"1\" class=\"dataframe\">\n",
              "    <thead>\n",
              "        <tr>\n",
              "            <th>POSITION</th> <th>count</th>\n",
              "        </tr>\n",
              "    </thead>\n",
              "    <tbody>\n",
              "        <tr>\n",
              "            <td>C       </td> <td>69   </td>\n",
              "        </tr>\n",
              "        <tr>\n",
              "            <td>PF      </td> <td>85   </td>\n",
              "        </tr>\n",
              "        <tr>\n",
              "            <td>PG      </td> <td>85   </td>\n",
              "        </tr>\n",
              "        <tr>\n",
              "            <td>SF      </td> <td>82   </td>\n",
              "        </tr>\n",
              "        <tr>\n",
              "            <td>SG      </td> <td>96   </td>\n",
              "        </tr>\n",
              "    </tbody>\n",
              "</table>"
            ],
            "text/plain": [
              "POSITION | count\n",
              "C        | 69\n",
              "PF       | 85\n",
              "PG       | 85\n",
              "SF       | 82\n",
              "SG       | 96"
            ]
          },
          "metadata": {
            "tags": []
          },
          "execution_count": 26
        }
      ]
    },
    {
      "cell_type": "code",
      "metadata": {
        "id": "o3oZj9BxNNAA",
        "colab": {
          "base_uri": "https://localhost:8080/",
          "height": 204
        },
        "outputId": "eb671f78-8ff2-4e3a-b300-b0afdbf96df0"
      },
      "source": [
        "#salário médio por posição\n",
        "\n",
        "positions_and_money = nba.select('POSITION', 'Salary')\n",
        "positions_and_money.group('POSITION', np.mean)"
      ],
      "execution_count": null,
      "outputs": [
        {
          "output_type": "execute_result",
          "data": {
            "text/html": [
              "<table border=\"1\" class=\"dataframe\">\n",
              "    <thead>\n",
              "        <tr>\n",
              "            <th>POSITION</th> <th>Salary mean</th>\n",
              "        </tr>\n",
              "    </thead>\n",
              "    <tbody>\n",
              "        <tr>\n",
              "            <td>C       </td> <td>6.08291    </td>\n",
              "        </tr>\n",
              "        <tr>\n",
              "            <td>PF      </td> <td>4.95134    </td>\n",
              "        </tr>\n",
              "        <tr>\n",
              "            <td>PG      </td> <td>5.16549    </td>\n",
              "        </tr>\n",
              "        <tr>\n",
              "            <td>SF      </td> <td>5.53267    </td>\n",
              "        </tr>\n",
              "        <tr>\n",
              "            <td>SG      </td> <td>3.9882     </td>\n",
              "        </tr>\n",
              "    </tbody>\n",
              "</table>"
            ],
            "text/plain": [
              "POSITION | Salary mean\n",
              "C        | 6.08291\n",
              "PF       | 4.95134\n",
              "PG       | 5.16549\n",
              "SF       | 5.53267\n",
              "SG       | 3.9882"
            ]
          },
          "metadata": {
            "tags": []
          },
          "execution_count": 27
        }
      ]
    }
  ]
}